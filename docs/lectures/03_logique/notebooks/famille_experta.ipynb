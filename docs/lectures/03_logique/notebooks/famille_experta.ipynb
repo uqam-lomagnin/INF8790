{
 "cells": [
  {
   "cell_type": "code",
   "execution_count": 8,
   "metadata": {
    "colab": {
     "base_uri": "https://localhost:8080/"
    },
    "executionInfo": {
     "elapsed": 292,
     "status": "ok",
     "timestamp": 1737429238805,
     "user": {
      "displayName": "Laurent Magnin",
      "userId": "13248483652000953420"
     },
     "user_tz": 300
    },
    "id": "q6jcv6482h_a",
    "outputId": "2ed1302d-da35-413e-d7fd-d3d6feaa152d"
   },
   "outputs": [
    {
     "name": "stdout",
     "output_type": "stream",
     "text": [
      "Python 3.11.11\n"
     ]
    }
   ],
   "source": [
    "! python --version"
   ]
  },
  {
   "cell_type": "code",
   "execution_count": 7,
   "metadata": {
    "colab": {
     "base_uri": "https://localhost:8080/",
     "height": 325
    },
    "collapsed": true,
    "executionInfo": {
     "elapsed": 5476,
     "status": "ok",
     "timestamp": 1737429216303,
     "user": {
      "displayName": "Laurent Magnin",
      "userId": "13248483652000953420"
     },
     "user_tz": 300
    },
    "id": "RfQ84VE61ehV",
    "outputId": "4049ce6c-978d-4127-a1fc-ddafa5b868f1"
   },
   "outputs": [
    {
     "name": "stdout",
     "output_type": "stream",
     "text": [
      "Found existing installation: frozendict 2.4.6\n",
      "Uninstalling frozendict-2.4.6:\n",
      "  Successfully uninstalled frozendict-2.4.6\n",
      "Found existing installation: experta 1.9.4\n",
      "Uninstalling experta-1.9.4:\n",
      "  Successfully uninstalled experta-1.9.4\n",
      "Collecting experta\n",
      "  Using cached experta-1.9.4-py3-none-any.whl.metadata (5.0 kB)\n",
      "Using cached experta-1.9.4-py3-none-any.whl (35 kB)\n",
      "Installing collected packages: experta\n",
      "Successfully installed experta-1.9.4\n"
     ]
    },
    {
     "data": {
      "application/vnd.colab-display-data+json": {
       "id": "51659062624548d7b52a8e973b19b0f5",
       "pip_warning": {
        "packages": [
         "experta"
        ]
       }
      }
     },
     "metadata": {},
     "output_type": "display_data"
    }
   ],
   "source": [
    "# --------------------------------------------\n",
    "# 1) Installation d'Experta dans le notebook\n",
    "# --------------------------------------------\n",
    "! pip uninstall frozendict experta --yes\n",
    "! pip install frozendict>=2.3.4   # on installe manuellement la version la plus récente\n",
    "! pip install experta --no-deps   # on installe Experta sans vérifier ses deps (qui pin frozendict==1.2)"
   ]
  },
  {
   "cell_type": "code",
   "execution_count": 1,
   "metadata": {
    "executionInfo": {
     "elapsed": 215,
     "status": "ok",
     "timestamp": 1737427274660,
     "user": {
      "displayName": "Laurent Magnin",
      "userId": "13248483652000953420"
     },
     "user_tz": 300
    },
    "id": "EzA7mr6j1kvZ"
   },
   "outputs": [],
   "source": [
    "# --------------------------------------------\n",
    "# 2) Import des modules\n",
    "# --------------------------------------------\n",
    "from experta import *\n",
    "\n",
    "# --------------------------------------------\n",
    "# 3) Définition des classes de faits\n",
    "# --------------------------------------------\n",
    "class Parent(Fact):\n",
    "    \"\"\" Un fait Parent(p=..., c=...) signifie que p est parent de c. \"\"\"\n",
    "    pass\n",
    "\n",
    "class Ancestor(Fact):\n",
    "    \"\"\" Un fait Ancestor(p=..., c=...) signifie que p est ancêtre de c. \"\"\"\n",
    "    pass\n",
    "\n",
    "class Grandparent(Fact):\n",
    "    \"\"\" Un fait Grandparent(p=..., c=...) signifie que p est grand-parent de c. \"\"\"\n",
    "    pass"
   ]
  },
  {
   "cell_type": "code",
   "execution_count": 2,
   "metadata": {
    "executionInfo": {
     "elapsed": 178,
     "status": "ok",
     "timestamp": 1737427291175,
     "user": {
      "displayName": "Laurent Magnin",
      "userId": "13248483652000953420"
     },
     "user_tz": 300
    },
    "id": "hM56ZDh7tKCm"
   },
   "outputs": [],
   "source": [
    "# --------------------------------------------\n",
    "# 4) Définition du moteur de règles\n",
    "# --------------------------------------------\n",
    "class FamilyEngine(KnowledgeEngine):\n",
    "    \"\"\"\n",
    "    Moteur de règles pour déduire:\n",
    "      - Ancestor (par la règle directe + transitivité)\n",
    "      - Grandparent\n",
    "    \"\"\"\n",
    "\n",
    "    # Règle 1: Si X est parent de Y => X est ancêtre de Y\n",
    "    @Rule(Parent(p=MATCH.p, c=MATCH.c))\n",
    "    def direct_ancestor(self, p, c):\n",
    "        self.declare(Ancestor(p=p, c=c))\n",
    "\n",
    "    # Règle 2: Si X est ancêtre de Y et Y est parent de Z => X est ancêtre de Z\n",
    "    @Rule(\n",
    "        Ancestor(p=MATCH.x, c=MATCH.y),\n",
    "        Parent(p=MATCH.y, c=MATCH.z)\n",
    "    )\n",
    "    def transitive_ancestor(self, x, y, z):\n",
    "        self.declare(Ancestor(p=x, c=z))\n",
    "\n",
    "    # Règle 3: Si X est parent de Y et Y est parent de Z => X est grand-parent de Z\n",
    "    @Rule(\n",
    "        Parent(p=MATCH.x, c=MATCH.y),\n",
    "        Parent(p=MATCH.y, c=MATCH.z)\n",
    "    )\n",
    "    def deduce_grandparent(self, x, y, z):\n",
    "        self.declare(Grandparent(p=x, c=z))"
   ]
  },
  {
   "cell_type": "code",
   "execution_count": 3,
   "metadata": {
    "executionInfo": {
     "elapsed": 241,
     "status": "ok",
     "timestamp": 1737427291873,
     "user": {
      "displayName": "Laurent Magnin",
      "userId": "13248483652000953420"
     },
     "user_tz": 300
    },
    "id": "GiXIaqJ2tdHz"
   },
   "outputs": [],
   "source": [
    "# --------------------------------------------\n",
    "# 5) Exécution du moteur de règles\n",
    "# --------------------------------------------\n",
    "# Création de l'instance du moteur\n",
    "engine = FamilyEngine()\n",
    "engine.reset()\n",
    "\n",
    "# Déclaration des faits de départ\n",
    "engine.declare(Parent(p=\"jean\",    c=\"marie\"))\n",
    "engine.declare(Parent(p=\"marie\",   c=\"suzanne\"))\n",
    "engine.declare(Parent(p=\"suzanne\", c=\"thomas\"))\n",
    "\n",
    "# Exécution du chaînage avant\n",
    "engine.run()"
   ]
  },
  {
   "cell_type": "code",
   "execution_count": 5,
   "metadata": {
    "colab": {
     "base_uri": "https://localhost:8080/"
    },
    "executionInfo": {
     "elapsed": 202,
     "status": "ok",
     "timestamp": 1737427308329,
     "user": {
      "displayName": "Laurent Magnin",
      "userId": "13248483652000953420"
     },
     "user_tz": 300
    },
    "id": "5PPJHYTJ1v1S",
    "outputId": "0b00a910-c920-4282-ff2c-31c649464f0b"
   },
   "outputs": [
    {
     "data": {
      "text/plain": [
       "FactList([(0, InitialFact()),\n",
       "          (1, Parent(p='jean', c='marie')),\n",
       "          (2, Parent(p='marie', c='suzanne')),\n",
       "          (3, Parent(p='suzanne', c='thomas')),\n",
       "          (4, Grandparent(p='marie', c='thomas')),\n",
       "          (5, Ancestor(p='suzanne', c='thomas')),\n",
       "          (6, Grandparent(p='jean', c='suzanne')),\n",
       "          (7, Ancestor(p='marie', c='suzanne')),\n",
       "          (8, Ancestor(p='marie', c='thomas')),\n",
       "          (9, Ancestor(p='jean', c='marie')),\n",
       "          (10, Ancestor(p='jean', c='suzanne')),\n",
       "          (11, Ancestor(p='jean', c='thomas'))])"
      ]
     },
     "execution_count": 5,
     "metadata": {},
     "output_type": "execute_result"
    }
   ],
   "source": [
    "engine.facts"
   ]
  },
  {
   "cell_type": "code",
   "execution_count": 6,
   "metadata": {
    "colab": {
     "base_uri": "https://localhost:8080/"
    },
    "executionInfo": {
     "elapsed": 115,
     "status": "ok",
     "timestamp": 1737427315892,
     "user": {
      "displayName": "Laurent Magnin",
      "userId": "13248483652000953420"
     },
     "user_tz": 300
    },
    "id": "2aNSjj3TtZ5r",
    "outputId": "abee5ff8-d305-4dac-c4f9-271a73585a88"
   },
   "outputs": [
    {
     "name": "stdout",
     "output_type": "stream",
     "text": [
      "Q1. Grand-parent(s) de thomas : ['marie']\n",
      "Q2. Enfant(s) de jean : ['marie']\n",
      "Q3. Enfant(s) de marie : ['suzanne']\n",
      "Q4. jean est-il grand-parent de thomas ? non\n",
      "Q5. Ancêtres de thomas : ['suzanne', 'marie', 'jean']\n"
     ]
    }
   ],
   "source": [
    "# --------------------------------------------\n",
    "# 6) Récupération et interrogation des faits\n",
    "# --------------------------------------------\n",
    "all_facts = list(engine.facts.values())  # engine.facts est un dict {id: Fact}\n",
    "\n",
    "def find_children_of(parent_name):\n",
    "    \"\"\"\n",
    "    Renvoie la liste des enfants de 'parent_name' selon Parent(p=..., c=...).\n",
    "    \"\"\"\n",
    "    return [f[\"c\"] for f in all_facts\n",
    "            if isinstance(f, Parent) and f[\"p\"] == parent_name]\n",
    "\n",
    "def find_grandparents_of(child_name):\n",
    "    \"\"\"\n",
    "    Renvoie la liste des grands-parents de 'child_name' selon Grandparent(p=..., c=...).\n",
    "    \"\"\"\n",
    "    return [f[\"p\"] for f in all_facts\n",
    "            if isinstance(f, Grandparent) and f[\"c\"] == child_name]\n",
    "\n",
    "def is_grandparent(gp_name, child_name):\n",
    "    \"\"\"\n",
    "    Retourne True si un fait Grandparent(gp_name, child_name) existe.\n",
    "    \"\"\"\n",
    "    return any(isinstance(f, Grandparent) and f[\"p\"] == gp_name and f[\"c\"] == child_name\n",
    "               for f in all_facts)\n",
    "\n",
    "def find_ancestors_of(child_name):\n",
    "    \"\"\"\n",
    "    Renvoie la liste des ancêtres de 'child_name' selon Ancestor(p=..., c=...).\n",
    "    \"\"\"\n",
    "    return [f[\"p\"] for f in all_facts\n",
    "            if isinstance(f, Ancestor) and f[\"c\"] == child_name]\n",
    "\n",
    "# --------------------------------------------\n",
    "# 7) Répondre aux questions\n",
    "# --------------------------------------------\n",
    "\n",
    "# Q1. Qui est le grand-parent de thomas ?\n",
    "gp_of_thomas = find_grandparents_of(\"thomas\")\n",
    "print(\"Q1. Grand-parent(s) de thomas :\", gp_of_thomas)\n",
    "# => Attendu: ['marie']\n",
    "\n",
    "# Q2. Qui est l’enfant de jean ?\n",
    "children_of_jean = find_children_of(\"jean\")\n",
    "print(\"Q2. Enfant(s) de jean :\", children_of_jean)\n",
    "# => Attendu: ['marie']\n",
    "\n",
    "# Q3. Qui est l’enfant de marie ?\n",
    "children_of_marie = find_children_of(\"marie\")\n",
    "print(\"Q3. Enfant(s) de marie :\", children_of_marie)\n",
    "# => Attendu: ['suzanne']\n",
    "\n",
    "# Q4. jean est-il grand-parent de thomas ?\n",
    "res = \"oui\" if is_grandparent(\"jean\", \"thomas\") else \"non\"\n",
    "print(\"Q4. jean est-il grand-parent de thomas ?\", res)\n",
    "# => Attendu: 'non'\n",
    "\n",
    "# Q5. Quels sont les ancêtres de thomas ?\n",
    "anc_of_thomas = find_ancestors_of(\"thomas\")\n",
    "print(\"Q5. Ancêtres de thomas :\", anc_of_thomas)\n",
    "# => Attendu: ['suzanne', 'marie', 'jean']"
   ]
  },
  {
   "cell_type": "code",
   "execution_count": 6,
   "metadata": {
    "executionInfo": {
     "elapsed": 198,
     "status": "ok",
     "timestamp": 1737427316975,
     "user": {
      "displayName": "Laurent Magnin",
      "userId": "13248483652000953420"
     },
     "user_tz": 300
    },
    "id": "-oNS-9hs3bbH"
   },
   "outputs": [],
   "source": []
  }
 ],
 "metadata": {
  "colab": {
   "authorship_tag": "ABX9TyOhMoX9Er/CPd85JOXowPM3",
   "provenance": []
  },
  "kernelspec": {
   "display_name": "Python 3",
   "name": "python3"
  },
  "language_info": {
   "name": "python"
  }
 },
 "nbformat": 4,
 "nbformat_minor": 0
}
