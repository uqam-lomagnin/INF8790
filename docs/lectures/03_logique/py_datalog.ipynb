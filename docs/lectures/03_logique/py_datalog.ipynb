{
 "cells": [
  {
   "cell_type": "code",
   "execution_count": null,
   "metadata": {
    "vscode": {
     "languageId": "plaintext"
    }
   },
   "outputs": [],
   "source": [
    "from pyDatalog import pyDatalog\n",
    "\n",
    "# Définir les termes\n",
    "pyDatalog.create_terms('parent, child, grandparent, X, Y, Z')\n",
    "\n",
    "# Ajouter les faits\n",
    "+parent('john', 'mary')\n",
    "+parent('mary', 'susan')\n",
    "+parent('susan', 'tom')\n",
    "\n",
    "# Ajouter les règles\n",
    "child(Y, X) <= parent(X, Y)\n",
    "grandparent(X, Y) <= parent(X, Z) & parent(Z, Y)\n",
    "\n",
    "# Poser les requêtes\n",
    "print(\"Grand-parent de Tom :\", grandparent(X, 'tom'))\n",
    "print(\"Enfant de John :\", child(X, 'john'))\n",
    "print(\"Enfant de Mary :\", child(X, 'mary'))\n",
    "print(\"John est-il grand-parent de Tom ? :\", 'yes' if grandparent('john', 'tom') else 'no')"
   ]
  }
 ],
 "metadata": {
  "language_info": {
   "name": "python"
  }
 },
 "nbformat": 4,
 "nbformat_minor": 2
}
