{
  "nbformat": 4,
  "nbformat_minor": 0,
  "metadata": {
    "colab": {
      "provenance": []
    },
    "kernelspec": {
      "name": "python3",
      "display_name": "Python 3"
    },
    "language_info": {
      "name": "python"
    }
  },
  "cells": [
    {
      "cell_type": "markdown",
      "source": [
        "## 1. Installation (Colab)\n",
        "\n",
        "https://github.com/Farama-Foundation/Gymnasium\n",
        "\n",
        "https://gymnasium.farama.org/\n",
        "\n",
        "https://gymnasium.farama.org/environments/toy_text/frozen_lake/"
      ],
      "metadata": {
        "id": "7Sdn-tpgu7IB"
      }
    },
    {
      "cell_type": "code",
      "source": [
        "!pip install gymnasium==1.0.0"
      ],
      "metadata": {
        "colab": {
          "base_uri": "https://localhost:8080/"
        },
        "id": "6ZhSnCP_u1g7",
        "outputId": "53257f15-f4e9-4d5d-b953-0640fa7e6f2e"
      },
      "execution_count": 11,
      "outputs": [
        {
          "output_type": "stream",
          "name": "stdout",
          "text": [
            "Requirement already satisfied: gymnasium==1.0.0 in /usr/local/lib/python3.11/dist-packages (1.0.0)\n",
            "Requirement already satisfied: numpy>=1.21.0 in /usr/local/lib/python3.11/dist-packages (from gymnasium==1.0.0) (1.26.4)\n",
            "Requirement already satisfied: cloudpickle>=1.2.0 in /usr/local/lib/python3.11/dist-packages (from gymnasium==1.0.0) (3.1.1)\n",
            "Requirement already satisfied: typing-extensions>=4.3.0 in /usr/local/lib/python3.11/dist-packages (from gymnasium==1.0.0) (4.12.2)\n",
            "Requirement already satisfied: farama-notifications>=0.0.1 in /usr/local/lib/python3.11/dist-packages (from gymnasium==1.0.0) (0.0.4)\n"
          ]
        }
      ]
    },
    {
      "cell_type": "markdown",
      "source": [
        "## 2. Entrainement"
      ],
      "metadata": {
        "id": "LZ6bgGhIOWm5"
      }
    },
    {
      "cell_type": "code",
      "source": [
        "##########################\n",
        "# 2. Import des packages\n",
        "##########################\n",
        "import gymnasium as gym\n",
        "import numpy as np\n",
        "import random"
      ],
      "metadata": {
        "id": "H4JgjmLbvmqu"
      },
      "execution_count": 12,
      "outputs": []
    },
    {
      "cell_type": "code",
      "source": [
        "##########################\n",
        "# 3. Création de l'environnement\n",
        "##########################\n",
        "is_slippery=False\n",
        "env = gym.make('FrozenLake-v1', is_slippery=is_slippery)\n",
        "# - is_slippery=True: le sol est glissant (difficile de contrôler les déplacements)\n",
        "# - mode par défaut: 4x4\n",
        "\n",
        "n_states = env.observation_space.n  # Nombre d'états (16 pour FrozenLake 4x4)\n",
        "n_actions = env.action_space.n      # Nombre d'actions (4: gauche, bas, droite, haut)"
      ],
      "metadata": {
        "id": "a0YV6aVNvpN1"
      },
      "execution_count": 13,
      "outputs": []
    },
    {
      "cell_type": "code",
      "source": [
        "##########################\n",
        "# 4. Paramètres de Q-learning\n",
        "##########################\n",
        "alpha = 0.8       # Taux d'apprentissage\n",
        "gamma = 0.95      # Facteur de discount\n",
        "epsilon = 1.0     # Épsilon initial pour l'exploration (EPS-greedy)\n",
        "epsilon_min = 0.01\n",
        "epsilon_decay = 0.995\n",
        "\n",
        "num_episodes = 10000\n",
        "\n",
        "# Initialisation de la table Q\n",
        "Q = np.zeros((n_states, n_actions))"
      ],
      "metadata": {
        "id": "Sowgmnu1vr2u"
      },
      "execution_count": 14,
      "outputs": []
    },
    {
      "cell_type": "code",
      "source": [
        "##########################\n",
        "# 5. Boucle d'apprentissage\n",
        "##########################\n",
        "all_rewards = []\n",
        "\n",
        "for episode in range(num_episodes):\n",
        "    state = env.reset()[0]  # reset() retourne un (observation, info) depuis Gym 0.26\n",
        "    done = False\n",
        "    total_reward = 0\n",
        "\n",
        "    while not done:\n",
        "        # Choix de l'action : exploration vs exploitation\n",
        "        if np.random.rand() < epsilon:\n",
        "            action = env.action_space.sample()  # exploration\n",
        "        else:\n",
        "            action = np.argmax(Q[state,:])       # exploitation\n",
        "\n",
        "        # Effectuer l'action dans l'environnement\n",
        "        next_state, reward, done, truncated, info = env.step(action)\n",
        "\n",
        "        # Mettre à jour la valeur Q\n",
        "        Q[state, action] = Q[state, action] + alpha * (reward + gamma * np.max(Q[next_state, :]) - Q[state, action])\n",
        "\n",
        "        # Passage à l'état suivant\n",
        "        state = next_state\n",
        "        total_reward += reward\n",
        "\n",
        "    # Mise à jour de epsilon\n",
        "    if epsilon > epsilon_min:\n",
        "        epsilon *= epsilon_decay\n",
        "\n",
        "    all_rewards.append(total_reward)"
      ],
      "metadata": {
        "id": "Z9l8rvQXvyYP"
      },
      "execution_count": 15,
      "outputs": []
    },
    {
      "cell_type": "markdown",
      "source": [
        "## 3. Évaluation"
      ],
      "metadata": {
        "id": "bwrrFHSqOfzm"
      }
    },
    {
      "cell_type": "code",
      "source": [
        "##########################\n",
        "# 6. Évaluation du résultat\n",
        "##########################\n",
        "# Taux de réussite moyen sur des paquets d'épisodes\n",
        "window = 100\n",
        "moving_avg = [np.mean(all_rewards[i:i+window]) for i in range(0, len(all_rewards), window)]\n",
        "print(f\"Q-Learning terminé. Moyenne de récompenses par tranche de {window} épisodes :\\\\n\", moving_avg)"
      ],
      "metadata": {
        "colab": {
          "base_uri": "https://localhost:8080/"
        },
        "id": "BP52Wte8v1WJ",
        "outputId": "f86fbfb7-4a14-407a-ad37-1a374354ca41"
      },
      "execution_count": 16,
      "outputs": [
        {
          "output_type": "stream",
          "name": "stdout",
          "text": [
            "Q-Learning terminé. Moyenne de récompenses par tranche de 100 épisodes :\\n [0.0, 0.01, 0.63, 0.84, 0.89, 0.9, 0.96, 1.0, 0.97, 0.98, 1.0, 0.99, 0.99, 1.0, 0.99, 0.98, 0.99, 0.99, 1.0, 0.99, 1.0, 1.0, 1.0, 0.99, 0.98, 0.99, 0.98, 1.0, 0.99, 1.0, 0.99, 1.0, 0.99, 1.0, 0.98, 0.99, 0.99, 0.99, 1.0, 0.99, 1.0, 0.99, 0.99, 0.98, 1.0, 0.99, 0.98, 1.0, 0.99, 0.99, 1.0, 0.99, 0.98, 0.98, 0.99, 0.99, 0.99, 1.0, 0.99, 1.0, 0.96, 0.98, 1.0, 0.98, 1.0, 1.0, 0.99, 0.99, 1.0, 0.99, 0.99, 0.99, 0.98, 0.98, 0.98, 0.98, 1.0, 0.99, 0.98, 0.98, 0.98, 0.98, 0.99, 0.99, 0.99, 1.0, 0.98, 1.0, 1.0, 0.97, 0.99, 0.97, 0.99, 0.99, 1.0, 0.98, 1.0, 1.0, 1.0, 1.0]\n"
          ]
        }
      ]
    },
    {
      "cell_type": "code",
      "execution_count": 17,
      "metadata": {
        "colab": {
          "base_uri": "https://localhost:8080/"
        },
        "id": "WLqvvg8buZxZ",
        "outputId": "8a19ce6c-e16b-4f43-b3f2-d0c1eea0732f"
      },
      "outputs": [
        {
          "output_type": "stream",
          "name": "stdout",
          "text": [
            "Taux de réussite de l'agent sur 1000 épisodes de test : 100.00%\n",
            "Durée moyenne d'un épisode : 6 pas\n"
          ]
        }
      ],
      "source": [
        "##########################\n",
        "# 7. Test de la politique\n",
        "##########################\n",
        "def test_agent(env, Q, episodes=100):\n",
        "    successes = 0\n",
        "    steps = 0\n",
        "    for _ in range(episodes):\n",
        "        obs, info = env.reset()\n",
        "        episode_over = False\n",
        "        while not episode_over:\n",
        "            action = np.argmax(Q[obs, :])  # meilleure action\n",
        "            obs, reward, terminated, truncated, info = env.step(action)\n",
        "            if terminated and reward == 1.0:\n",
        "                successes += 1\n",
        "            steps += 1\n",
        "\n",
        "            episode_over = terminated or truncated\n",
        "    return successes / episodes, steps / episodes\n",
        "\n",
        "success_rate, steps = test_agent(env, Q, episodes=100)\n",
        "print(f\"Taux de réussite de l'agent sur 1000 épisodes de test : {success_rate*100:.2f}%\")\n",
        "print(f\"Durée moyenne d'un épisode : {int(steps)} pas\")"
      ]
    },
    {
      "cell_type": "markdown",
      "source": [
        "## 4. Visualisation"
      ],
      "metadata": {
        "id": "IOXJnlMtzt6i"
      }
    },
    {
      "cell_type": "markdown",
      "source": [
        "### Politique optimale"
      ],
      "metadata": {
        "id": "YFi8iXPnOvmn"
      }
    },
    {
      "cell_type": "code",
      "source": [
        "import numpy as np\n",
        "\n",
        "# Exemple de Q (table de q-valeurs) déjà entraînée : Q[state, action]\n",
        "# Ici, Q est supposée être un numpy array de shape (16, 4) pour la grille 4x4\n",
        "# Ex : Q = np.random.random((16,4))  # <- À remplacer par votre Q appris\n",
        "\n",
        "# Symbole pour chaque action\n",
        "actions_symbols = {\n",
        "    0: '←',\n",
        "    1: '↓',\n",
        "    2: '→',\n",
        "    3: '↑'\n",
        "}\n",
        "\n",
        "# Récupération de l'action la plus probable dans Q pour chaque état (0..15)\n",
        "best_actions = np.argmax(Q, axis=1)\n",
        "\n",
        "# Affichage de la grille 4x4\n",
        "# Indices (états) :  0   1   2   3\n",
        "#                    4   5   6   7\n",
        "#                    8   9  10  11\n",
        "#                   12  13  14  15\n",
        "# Sur FrozenLake-v1, la config par défaut est :\n",
        "# Row 0 : SFFF\n",
        "# Row 1 : FHFH\n",
        "# Row 2 : FFFH\n",
        "# Row 3 : HFFG\n",
        "\n",
        "env_map = [\n",
        "    ['S','F','F','F'],\n",
        "    ['F','H','F','H'],\n",
        "    ['F','F','F','H'],\n",
        "    ['H','F','F','G']\n",
        "]\n",
        "\n",
        "print(\"Politique optimale (d'après Q) :\\n\")\n",
        "\n",
        "for i in range(4):\n",
        "    row_str = \"\"\n",
        "    for j in range(4):\n",
        "        state = i*4 + j  # État courant\n",
        "        cell_type = env_map[i][j]\n",
        "\n",
        "        if cell_type in ['H', 'G', 'S']:\n",
        "            # On affiche directement la case spéciale\n",
        "            row_str += f\" {cell_type} \"\n",
        "        else:\n",
        "            # On récupère l'action optimale et on affiche son symbole\n",
        "            action = best_actions[state]\n",
        "            row_str += f\" {actions_symbols[action]} \"\n",
        "    print(row_str)"
      ],
      "metadata": {
        "colab": {
          "base_uri": "https://localhost:8080/"
        },
        "id": "0s8D2YTgua1e",
        "outputId": "ab982e96-60e7-4400-fb9f-fe5e72368d37"
      },
      "execution_count": 18,
      "outputs": [
        {
          "output_type": "stream",
          "name": "stdout",
          "text": [
            "Politique optimale (d'après Q) :\n",
            "\n",
            " S  ←  ←  ← \n",
            " ↓  H  ↓  H \n",
            " →  ↓  ↓  H \n",
            " H  →  →  G \n"
          ]
        }
      ]
    },
    {
      "cell_type": "markdown",
      "source": [
        "### Vidéo"
      ],
      "metadata": {
        "id": "lY86l0HQO09H"
      }
    },
    {
      "cell_type": "code",
      "source": [
        "from IPython.display import HTML\n",
        "from base64 import b64encode\n",
        "def render_mp4(videopath: str) -> str:\n",
        "  \"\"\"\n",
        "  Gets a string containing a b4-encoded version of the MP4 video\n",
        "  at the specified path.\n",
        "  \"\"\"\n",
        "  mp4 = open(videopath, 'rb').read()\n",
        "  base64_encoded_mp4 = b64encode(mp4).decode()\n",
        "  return f'<video width=400 controls><source src=\"data:video/mp4;' \\\n",
        "         f'base64,{base64_encoded_mp4}\" type=\"video/mp4\"></video>'"
      ],
      "metadata": {
        "id": "84QTms-V-BdG"
      },
      "execution_count": 19,
      "outputs": []
    },
    {
      "cell_type": "code",
      "source": [
        "from gymnasium.wrappers import RecordEpisodeStatistics, RecordVideo\n",
        "\n",
        "frozen_lake = \"FrozenLake-v1.mp4\"\n",
        "\n",
        "env = gym.make('FrozenLake-v1', is_slippery=is_slippery, render_mode=\"rgb_array\")\n",
        "env = RecordVideo(env, video_folder=\"frozen_lake\", name_prefix=\"eval\",\n",
        "                  episode_trigger=lambda x: True)\n",
        "env = RecordEpisodeStatistics(env)\n",
        "\n",
        "obs, info = env.reset()\n",
        "\n",
        "episode_over = False\n",
        "while not episode_over:\n",
        "    # action = env.action_space.sample()  # replace with actual agent\n",
        "    action = np.argmax(Q[obs, :])\n",
        "    obs, reward, terminated, truncated, info = env.step(action)\n",
        "\n",
        "    episode_over = terminated or truncated\n",
        "\n",
        "env.close()\n",
        "\n",
        "print(f'Episode time taken: {env.time_queue}')\n",
        "print(f'Episode total rewards: {env.return_queue}')\n",
        "print(f'Episode lengths: {env.length_queue}')\n",
        "\n",
        "html = render_mp4(\"frozen_lake/eval-episode-0.mp4\")\n",
        "HTML(html)"
      ],
      "metadata": {
        "colab": {
          "base_uri": "https://localhost:8080/",
          "height": 530
        },
        "id": "ErLo4UzmIOn0",
        "outputId": "aa2595c3-b7a0-40d2-d4eb-5b9353265c65"
      },
      "execution_count": 20,
      "outputs": [
        {
          "output_type": "stream",
          "name": "stdout",
          "text": [
            "Episode time taken: deque([0.021965], maxlen=100)\n",
            "Episode total rewards: deque([1.0], maxlen=100)\n",
            "Episode lengths: deque([6], maxlen=100)\n"
          ]
        },
        {
          "output_type": "stream",
          "name": "stderr",
          "text": [
            "/usr/local/lib/python3.11/dist-packages/gymnasium/wrappers/rendering.py:283: UserWarning: \u001b[33mWARN: Overwriting existing videos at /content/frozen_lake folder (try specifying a different `video_folder` for the `RecordVideo` wrapper if this is not desired)\u001b[0m\n",
            "  logger.warn(\n"
          ]
        },
        {
          "output_type": "execute_result",
          "data": {
            "text/plain": [
              "<IPython.core.display.HTML object>"
            ],
            "text/html": [
              "<video width=400 controls><source src=\"data:video/mp4;base64,AAAAIGZ0eXBpc29tAAACAGlzb21pc28yYXZjMW1wNDEAAAAIZnJlZQAAWZltZGF0AAACrQYF//+p3EXpvebZSLeWLNgg2SPu73gyNjQgLSBjb3JlIDE2NCByMzE5MSA0NjEzYWMzIC0gSC4yNjQvTVBFRy00IEFWQyBjb2RlYyAtIENvcHlsZWZ0IDIwMDMtMjAyNCAtIGh0dHA6Ly93d3cudmlkZW9sYW4ub3JnL3gyNjQuaHRtbCAtIG9wdGlvbnM6IGNhYmFjPTEgcmVmPTMgZGVibG9jaz0xOjA6MCBhbmFseXNlPTB4MzoweDExMyBtZT1oZXggc3VibWU9NyBwc3k9MSBwc3lfcmQ9MS4wMDowLjAwIG1peGVkX3JlZj0xIG1lX3JhbmdlPTE2IGNocm9tYV9tZT0xIHRyZWxsaXM9MSA4eDhkY3Q9MSBjcW09MCBkZWFkem9uZT0yMSwxMSBmYXN0X3Bza2lwPTEgY2hyb21hX3FwX29mZnNldD0tMiB0aHJlYWRzPTMgbG9va2FoZWFkX3RocmVhZHM9MSBzbGljZWRfdGhyZWFkcz0wIG5yPTAgZGVjaW1hdGU9MSBpbnRlcmxhY2VkPTAgYmx1cmF5X2NvbXBhdD0wIGNvbnN0cmFpbmVkX2ludHJhPTAgYmZyYW1lcz0zIGJfcHlyYW1pZD0yIGJfYWRhcHQ9MSBiX2JpYXM9MCBkaXJlY3Q9MSB3ZWlnaHRiPTEgb3Blbl9nb3A9MCB3ZWlnaHRwPTIga2V5aW50PTI1MCBrZXlpbnRfbWluPTQgc2NlbmVjdXQ9NDAgaW50cmFfcmVmcmVzaD0wIHJjX2xvb2thaGVhZD00MCByYz1jcmYgbWJ0cmVlPTEgY3JmPTIzLjAgcWNvbXA9MC42MCBxcG1pbj0wIHFwbWF4PTY5IHFwc3RlcD00IGlwX3JhdGlvPTEuNDAgYXE9MToxLjAwAIAAAEuUZYiEAF+BJ6xGjVOIJSfoy4EjyLqTRbA4RTTS2LXsLWHFMCAi/fWplat7vlbOhxJys2+jBTe0uFUMsYAV+QWN6iZramOaroFaB1yBqbF9zkX/uAz8IYB7t77m/tGvzwIFzQkx8NucvuikT97ll68tkcdPlZjL/aalcY3c5oY5PTCG2ajd51ah5KoxBbhGWA9MIzTl6Q0HfRAwshKfO8ZOglAghGN2ti3ZNVvRNSpX2apjAVDPSZSht6AVC6q3dBSXXodFCSffVjyFER58wNVxBxEBTAlGWZ0tlAcDqgw0LK4hcV1CLCX/IYN1DAIA8T2wyFkKUu0FVT21vqgafyZE8XkYpHcsTuDVjzlDrLAhIpSjJYW66TG9VFbM2QKoskazH5UB6hIX4bPzOhGRlkORKcbkWoENnJD7oDDmxSgYRkcBpgY4l4R0UoKvmmY76fYSN/8iQLFofolELRtJwNvTLFWS7lK50ZTjHE/BI3ei+XI0R6JE0IVHLoeV+7yuUSSIz1voEjGaAsTLpEs5gpZ+jJPjKY5mIeaELh8834mQRsPNTFZLvq+RRzrBJhIPbnRNBGLTBttmZe9N98u1rkcoxrhsr6Gp4ow3Kb2Db9nd1SH9fscIrj5M0BZJGfNkrY+IFZId0Px9TrF31LtSvpcch3PIWeuP2+DD/ZpbI0GYZPUZHTfQHhQCFwn1coLeDuXZkhODqiz6d9m64DpQFzRF4jLGwKYWT6ro+rhUz06O+GFvKZ6yeukew4eTQbt3XpMQvDZmfeZGnW5Ua6yhVLyLsAccf2p/HiH2uJGvv8knV5K0MDPKWtEqKwoPEodTHTlutTdGQ3bsP2wpGwbiUCiW3rgYt72QaK3hNut8SRTEMiPxM6j1BXChCk1zCfOholJT5Rj7FzXxMeyx52IGQQO+8bUgZoPQ/wtp4PGNmLc4fj3Waj5fOz8CDEV+1UAM591lnXW7qo7AFpxzMRuLIDYwdNHUDDFJ/PURwgjxvGPDYdt+J399ejqV8tkIowoAp4q/Y/254+/eHHBTTmEP4suKzDORUAM9uzVpamYP5RJjDyf13zJEfLf7+xpb7lvQlKrGuYEigQyM5OKfXgCT8OwOyCMM5W5CrDHkHU3aeZhqR58caOljjeJVNBh9BYmTYByI7QJBCP8bteDDfIng96mYDlTXV2Wn2WE4Z6/AbbjzyF06xLML+gxbUM/gT9zE+irZalRHg34gbvYiYOnIlaQjn0prb4bQS6I6XA8RCv0em1j3JWugcwNCXIZ1VGZdIQjXv1fy4TgebhDueZaV4xK3Z3Nw9jewjw76o/nf7BcBi/F/MR+EuL3zLRW11dFMBRKnTlM82u9dupS9Nss1HoutOUEE4a0AmkXvCkIdYjxPGMM9NQHS3rapMKAS6Jia2GUYCo3b4mjvZToDYZB10n0je81q/xzu6mMSsFXg9wxR/+Ywh2Trs+oI0vnwJxqkaqdBbzcUB/1gdcXBYGcH1jVS91G5R4b+vQ/n9nsPKITxu7/UgHFJ3MnXHwWg3G0vyP3i7H3Z/lQU67xPhoEAjam+NIjwVB1s7tpAxqynVWyy0NJ1UHSR5jzqChLBY0D8ZILmdnD4xJyhT6o4w0tsDEWrLnH4L66asY3nxqpbI/j/iyogzgYhO6b0zH7fyvuGGzorZtc/y//Z9nVVoYpQ236PYTyIRudV8D7k6zrMCNeH5Q11sPuJK3tbI3OwiUfoKCS1JQknZtrHHYICsKzHQUxWIHCvQvWTHZ0yQLAtswvU0NyJylsRO4yvcUIB1xoFz9nQuIMgqIkLRNm0iY3zupNQ613rp998vG8tXXk+qU6JhEI/2xJOSQ6zLbv67RWYw2EnMsQTJHOH5uJNBv6v7pBCNzU6RzdCDOBjGVTMwmNmj4nAZA0RUQ4DbeNfbImsovLIoDsog7MzrUf/inSc6MBA8FMmry3DHyVtUVUL45eZkp+B2GiLTdazNp9/cRZY0dJK2+e83GCvoT/u2N75sdPjxPano89C2Lmyl6uZ7FPeiX36g8Srr8qhG3/LOluUHtwPTmaz+7VMZ74Ddn7LjUm2a55A6ylIHVHIWh1Gg5U1vT9JKfXyXriSqRM6YXo9rrYn44YGTy9hoOCL9tnIXnVygqfm819N4DeKanwZG5vbHQWkjLfcd/yAAoUbsQkvXwd84xb8o/tYkbErhPY1mAxudnc69hACuoIPd8UeD3GtvNs5kr81W0DEaZbGPUFimdTv5GjjElR2h9OCH+VnYEIrTvXsTCzvVfeYwph/WgH1SVe+14V90PrBWMpfpXtUqJ1VLZ/tn2bgPxJzoIZ5a5eNjtae/XJqn+XhSgIMg3RTdtUFpr3+okBiMlt9Q9OuS4Q/QqTwFNZXpBQGNB9Sg+d/QEdoYJ+9r5tyJM7tnqFe64Nd5lHIMwRdy9BerQSVCcXbN5s4SFtwacoQnDpdFq4MvtMNWpNHtbETwK1ZQ2lZHgvZ6FSf+ZBo663qKmLSulkKbOs53a6N0y7fel1Kksjn/5ptiYpujzH6VDMhFg9gznKq6Hbtb2tvuLDhG+UU1BUuUxGFPG3VhMRi+fgnYtujGK+nx0TI3pM0IEolaC8o+UuFDj6EJz3YyqPW0Ge/ZAwM4BzrZdQr+ea8ZCfwDrm/wHnwHSGxZSgKP4/lFWZHTY9+yCMzOHQ49sCcsvaW8tNvM7h9AHT5UWrCNxo6W54aHQiG9GG5m4WQsDEgqJJzv0WyBwlgtjSMDil1eey4scuQwKw01qthdDdGG1vWFhd8pksJE8nBzPtPAUxjGwbLk05u/QamNC4zO07+P+g3Rh5bRgYBvG4V6GIXIos3jMdCEktA18bapXLRSVVYdrXQaNgqtC3tWhJa16KwZS+/BMMv5siVK4GZVtveYDB5vvWyy8cPmbJVNeMv4GFazsU9hbAHzSrG64EAALai+nse58QVkh+4fYwQ9HLW3ONf4c1w1+YGMZXHfcrbAiEFHkrosvA/h6lUBJKHjXLkxQNbIVxwj9Hetmt5p/kH9UZfrWEl68QYddUy5AL+eLNgVMKVNXt2ETrIeAcimaRZuuzLqWi3t63lgMxVh/hjr3y6D5OHle+uvDjqrj89HuApkipk614WlVcjd6EsErNTHHXV2XVYjSvQer7KGTDpD/KsO89qRytK1dJPzp84rv3+qd8x/68n87ZdoGM+uRcFPS5/Xf9XJtVyFPPwsW2Yj16+5pxsRA+5sMKqzfiIXXc1356/PeEiLUoLntZFQRk2FS8d0RDZqIyf7pe0MIe7QI/InDf33vej4n4ZtPMH4NBZzbD75I7uaVfSaoP36R4d1cLQm3kLlSv5nnh9VxpOTYB31K+rO/AXqfJzPtgZZkMnX5zVTubESjITSdhnw+mzG0jG0EYqQp7hN/1cZb9DeVYtxEooIxmzRAW78gVniurUOxTRL+hlGYCDL9emhuhn4n35laHEZb1Vpfvwvq4YFh/tjzP0/EFlzx0qcf2phst7+Ig4YMIAi3JEmTCy8zdTJ7oPxv0tI6L00/uFijMBI/8bwju14onIIRLEHwNOL4pqu9yAjF2JWwGFz2ky3hVfGRVKrHVNjkRgQeJ0zY8PwiaL1LYiBVN/wa6+3OFo1Tyo8hpa6IxAO977gMvEShV5zhX4aeAqxfBnCu4O5YH2UEGyN7M8DpkMDaY2GZrX+aWQB1WhPDTFuVsfKJls3uR4pDGnk4jpBeDhyHmwl6CKTTMZOndMFqZRJAWtKTnw8PySxumnGm4Lj7jqDphRG1xhI4CRWN63dqqqLh+JhekpzGixG3QVBw1kZZtGoBNqCS9D7LIoXlj8E9IrbMYXYIlNZZHt2SO04NTggVvJXSu+osPkdLLdjHN3k1vquy+V+XbLxjOu7632mMX7G8GS2btdFFii/JhRUpzSaBwbMGND4c1xeIxxZ5iGwoRTF8r8+JOMW5b/SIJXqBsYVHhTL+hv0tRTiY6nEs/rivKG8+XHd8GK+B7Y/yGB01WqT5y/ray3cFztkAfsJ643SSC9iK8Kl+lOWVmv9h2HCqN86I3jegiky8D1FaV+Xk5QltK47C1FYPJ/USlP3WiqoKYq4j90qVTGF6F5By5MV2YAYaaKvQh/weQ24fAVZlB/ObxgKBL+Uk9lkULneli9KXg4yzECp81CSQpxcN/2GAoB56W2b4Z7HIdzv5fhmwy10mDaVqgj6S+9kYZhWKYXpQmS1EzcWyO9lAX8ZCbmFawEW5MFaelYrjui7K81C5S29HgYgPb4RTdcft6LE4bxSL3vVArizpaN13rTQHJcP84m/feTt22sMHIV3PNyXrsVLkHQdOSkEETBlFGM3HBpjHkOg2CpvHSaxbrYmvbzKbmrjS7L+m/TPyGZbARq0va9v1jqnt7Cp4+GPZTn8qnBxkMZkfBY4s/AZGzLljbDOc8mUzW5HNOnwNKsOybG0IaiBm6Suw3H5KzJYqq1KrGjcFlVrQ+p9gYOYmIcXWrQ0DoBVljBT3bP+gH/k8tPHdK6LKt/tWOhBCMdk72y/DdStVP2+hpJhEh1K515oPGpatQNh1brHNwEjZ/ov8yXCgnAKUVZ+Nj1L5NpZDnLtvMcbdyM/n6n0L2gpissV+CdSYKANpYDRQkFObvHcr2cmxn8F3yo7fBttpiczLxhYfIPs2g3pfBEe2mx5QldUGD5U5Olf2Yo7uA5T63D0XhsRK+3oPu13fufvRjqHDgWIXmgDl8kMLAjsHQ+2OxOTJ+fgRKEOTKv085r9p2a4zPuNwHxWfQm6OwvJIeOZrKvNUmSp2IpgskgaAzYmbq8ZH++eJFYSFCX9x6ixzFViM/FBKJ6wtCdaFLm9Em1eQCLcWf6a3mltUwYrLI37dhJDDEiDm6kboF+wA8N2RgAeSTi82kFOWeabcaAcs8RjHVjVJsRwac15+9JbTMOAu/u+DH0reJ11StywUh2xZZaAULGW8GU3xXemi+YwukRN2nX8kgqLvfLU7x3bUtolpV6KF+oH9V0FQJEahT4ClZx66flJKuNakbF9xXfh176IRJRTJ/YdNS5fdCJHiZlhhRNzqeWSnpPYYY/hFy6313NwVqjD2kFgPMPATdX/w0y/DXjIfi2Hbrq3PK3ZlBA3ltAtpScDmd+Ui6seoQq1N0nJEySlpdHoZiGR/fj9xrkrJawPRvfyX1pfoLH7BLjVsxduEqZ8G6fBTv30G+Rx9k5RBIoI3rSpieDW5TqRuggW+vOXVozI5BdhWhPubADMJmi/HN98nlU/+8N0ZbgYETipNhSfkRiJxAOLB6mjnjvIX3Jthb3Amd+9nEkp+bJ4l4sI/pN2nX8k1JbbIhNjhx48wN3m1kXyB8KD4MrKKtlAvm19scyM5BXCK/ddvX4i9rY9/BRAyRea2u0rIkNQ92Gl8umXCKE08ST0nsRQPwmIXl12WYWbOl5hrY9tcJ+z1PqgQa7AfwD1vaGdvaBaV1QibQMPmHhf0zBhNZV5qhC8N9WKT1D7dNKN1HNL39+fuy6ovR2p9dcEe1FNGvyRRT13oYd/6BRurZWeD28yx/kWoMwTzDwrWJvRmrLTZp2qPULehpRWmni31vBmjbBKu94z9epJwrWqSrf3Zw/QIZtGV3SRVV2kbtFEszEhbXZyqz+0FVx6ypGThJQJbmVl0GtEkkSa9zbvArwaMK8d3QYXW9cd4feqQeWxbh+7pmTWJAEp7DEXeFyM61B70k5Uj/HmM3uQoRlTt8f25XNIbYhvMwxytjz2/IP1kbvY6G/1wQJ41KyjE3g+RSK3Qg8H37TjRCisAzYpyfV7VjsXthj0aK1drA5Lw3NYRg96/G1BLKrPWgD3/zkOYAf/6+VOKbqmnoT6KdX0OhwqoAePWajHDH5d0XQMLSOSTMNYbB6tgHH44dUHG+XTRbzYO0GyXyLfk2eRrYRb5jwUE/Dy+bp36+gvo2T83plQqXb6Kv93Rkqmv4+y4f8loyb5bydibwDFxNVlUXFMGVYPfO3MLSs5S13VwA+Cbc9ELsGDfLmFEY4IcvahYlj1b+b+WfrB1/o6tXholRrfpoQTjryUU8FH43WQKgInWncWgXtCZAkiGNczay9osqTxTPn9ALduqR2bZhlnmLj6UTzbduYCowzV9T8FKWS+MgMuLzDbPzfaI7xQXFo3+hc/zClain1vxjKeb3ziYAVVOSNqetytRRrBlSjklstciR5U5SQgSkJofXDcDbwFn4xjK8wzJNjx7mO0e3VjWZySCF16wOb60tpsUR1tdzYLt7qT4fY0aO5CSN/qK1cFH3kNtvusQ5h++cTb/95pJhydpS4CR/8Befr+aGYgaoug1gMWRtZyEIkOE0etTSFEs7saTL2ADJfFyw7wKerLPZWApI+cTmGsIAc1fhGoIGkMJcW1GMUV7bzGq8QZzDzoku60ubBQaHHdsfZ0JO4ut+DlcjtUMcagxHsgDDSV6D2ePIGk5qAzOpns76jQEtGsjdTD8nHuE40NGsJ+AbsRc5FVFJLd9vRm6p8YvOMEp3yGUidjaEnJ6fsb8Lj7G279ZmyfEJ7Ev1W0gqBcY2+t8ftA/6N2nMxvWU4BD9SDstwkP809C8iclIqyYObq6CGOrE9brZBaoy/glwcorBl0bdpHjSeTPxUlcD4Vw+oZtIHlDeRfrnbi52lYt34xeEOE/zE4+DbFVxe281Ff9K1fZBHhxogYnofNEkV8imR+npcVTf71czicMHISw5o49snpyJFA7JWUO06KDKMWDSYsf3ZoLniNFVRch6thjPVIq1z6htOsk710MS/BiE8fjiihOPze1sIoROJE2Lq2ni8I/8eX1+B4p/uM3AVkQ2XB8DxhhBXMFjtzIxkqVsWvJvpxQTXh9FpY7uVQ/ENIdDdyHdrrRSSzYRRuopLJi6MfN2XQp/mansDamOk9j+K3i6pHt+KikXW/U5AKPBekOA+OpYmkevRa52F06F7ZQViOkQMv1ff0l3yWFsVOjmFdl7Gr5BZOnnbeSqL5Ywy/BEIvgU/TpP3PXvFwCUp89Pcv0WHTjdiK8wrCvPlfs9MH4sfx5//7voHbTaBeYxT9dYhzKtA+YmWQ3LzpmBXN4q0kIDscT392kDPeUsYtiA0VJeU0TI5Vog0Zedkn5p0zDv9yrH3gr2Kh0APvOgu0DCs3nlhpm2suICc0ieSd3aMcKB3m7CJJycOZbhZ/J15e7VEnSFi3bFx77wvyUWjSEPskunZbi76/0dsJwNpApFL6m+fwNL7/IlzCRuGdPBR//0Orab8GG6HjQrfT7szgurHfBTLegYbB/U2XBAO8ypp1spouMexuZ+qChLMPe+A1UDKrmKBOr2Fo0AePsGLsGrgDa6Z0XdzFUwveIRuFkKlA0L2kBX/P3JmFNe0hJR2mv88FCoVFGsmhTZGkMgV4+CRAl9T3NOf29i4Hr8hpR5MVTXkcunGinRAkwpKw96/flhGRtCA7Mi1p6AoRYLn5WyzIf5SHz+q6ZbSmwjyHyRw/38qz2V4JSeDX4o2rwA7crpAGVX9ZuLfAngWY4Sveg2y/yjODGXLxNHZ5ejy3D+uWfXbdnp5IuLMS0o0epH8hjHYlI+wlF5cdh/J3YCDcABExXBIDNkhLf0JOr1H5fVdijaIeU/o0cIKe3wGYxHJsDpqiprEN5ggcdU9DqKe6LCHTc996dvQOilsRDW1piMARFafcptJyHtW3kb6S598LK9hbFBTDmQXZhAsyZOXvgYze07EX0CoK/iCT1uI3mj5//5vG5JtpaU4IOlokGAXxzwJoADp5XifaQKdyuY0teiTrSwlLWj741MSwEMhMbUpMWV3QQCmxQfG1hNAbMFto7ify1HJPAqCogaE7VkmITMqEPajQsjUXoN/RRnnQm9JEBWyGOGPIs/J4zwBbUPLKjvQsgzHBSNs3Dkwuk5sgU35boJaMQpq5+DKM1BJrt10Ewwh4bIkLvtxSnSn3PwBndyo8jlh/YX2zrlZUF31ugFJJ8ZXnJcsAlp7FEpATdz4SqZEcpiQRhNP4ZCeF/sdJlrcl7eOlxwiNrunx9ZNhYOg+BAi2GBCFsi7uWW3H29A4v5C8OVfPo4vSqngDUEdaRqj/wYTecTFiZBUoSqQfWLUspf3yQQQyFnMfscWqQ+7U9kI1aqh3we40B8N5IhUZSzR7n+Ir3yBBd62W48JGPMkW/2Wxf8YFoPlNleBcWsPQJkwByit4BBh2d15sMFxtRjdnVSyWVXoE7tGzPJTh49UfurL3scR/JkW3CSw70h57lx/lKzaiXId951CkV5upNRxeV0CSLW21IbRBwV00tUqMGx7V3y16vNLwPdxlqbWa0AE+4+FmWyLEVcTFc2vzBWMZxfikBj+md4nk9H8+PIRcr9PyP90wUPO9YF1PtzdJWnGVAKpyBvXnrDPCA3zeOL24A+iwBWxOpzmMbq424AkcpiCiNnjYPNxPF/az5N/9sVYIUcyxxlPh7L6Xo9kKVNTrV1x9xBUomfZEmCBeVtKD5u+BaduK3WnQ3C5qVIyHCrRYOp8mR82pXU70uD1q5wolJ3aj6931ZCNr5lAHH5PYz6NF6YT5/TB9gwUwEltMHY8t4eJNdeDByVV8C6ucvOiJPaCkH6rOOkBfelHClBfo8wFrwQmI4I8BVCOofY9VhtmMMe4rJ75odkSJFifgWvFzfAe/JLCEebrcMU5vsiP7YL0g5ZgGwb96aAif8pO1yTrkoHENZMBcgw13JGQK9bNBAaNxwYNpvF58dDg8weTMFE9MXK/p9YKAdVCzHb3ICSmW1//FbnrU9zeHoxmM4u+4WWDTCY+/YwBhhLz8DKiibc7DwIPNmd+TTPScmCqqnwKPHl4otE7q/xA1QikliOqy5RhT83XaFieJqz68CBHKZqmCUYY6/3MBj/ftGVeJMUo9Mjvs8Q5ZPJZKYpUcj9PIB+SYzWEw5YPI8mmsCbvFNsAT5YAHO9gR/GpNn0GmsNbVpBu0dqyyckn4wgEVTt+tbzc3LUjTUbw43UHyIlKU4OMpVMxYJMC8EFWF1iLQb6zjqlsIaLs1CgMnb10HZ5o8JVzBUME7XnSbf6Tw/gn7ET65Vk3Nyha/KxebKUyYTRoNnS+L80xYqX3KfLiDOh+LtfsSMy0POgj0F5utNuBZYqonWbDII8BcZYFgg3r5M36iyTRc0KM+obxJH+Up0IK0XYFAU1evFQJodvkUYDckBLeYaihGquNaDgsbQ6XTGGZJqx8xzAZOkuJAH4CBMj9grxxzu3S4HDJjIHmbCH/1XoabnkKCjzY+qP/NIebK6UT9235eZehaiRV59ax0ibuLraztvfVKhK6RvxFogWUmQYDdjz8gWmMRxX6B7m8zDCCWYN1wwnVk4SilXldTks9/ZCTc5gp1ilxKv4Fph0M6MKAWnHJBnL5EyxJV5sQ8N5hM0O0Q5Hao4+GejbJfFi4+M8K3vXOPSAO0wqFPR/ndevDks63zpc6n802ZsfU9fMh747Lo18fnRTl7NsxTEK8Rhr5fTyJKipDnHv5uQ3O+2dgbIKgEBujqhs8grOcRlhB+PVzo+2/JQ0tO2PhRmA7q2Esnc0cGZzbRXY0i1fMHw/7ssT3pzeG2+s0sQ5MIgue/VLB2xPwbPKoTecXNg/YQuuDFJVB3cWhUlQYUis0pKMw+42xG8a3isJYBysYlVJuModCA5AcOxxk4c8B3RxUQoQ3Jd9fpQDv215u5T73AlGyUqyTMKc+xeKwW4eMNCd5jkzBVgWbnfnLKhEklykvQTeuiH0baj1pVsdulWGnrvYiNnecF09HhjN3SRQhAGM8BP7u5QnW680+czOw5dsw1yXDV56PgPUoNlZV/JOLJAdebi2yQhPJf5rYDQ61blxfXJ0AHpJAyHne4awPK7p0bGvMgmHZk28vqXiGwm2ZhkD/gNNt2fpj29CGE2o1moontwgKqUYdQ/hEfUm3Amvf+3AMaHhJuNPvFkTlYCzTeP3z0CKaISbuREbi42+U4Xq0Kf3UD5UQ/IoJLLuN1CQ86UC1ClgpS5E3hmR3rJTLyxAK0EMzmMb9LrHBeanafaC8jYAdcDPPDnn6U4B3vGasZ7kmUBjUherdhBDoL1ve3qpkLBMV+G9+Wrt4xI333fwVe6FNlxiZmKaLqFZfUQCZ5UOY6KnzThL9BlCZ4aUITai61PiJmXWkhgz+vf6q9WI/5LuQv+7ZqV+qYVpv7KO4+dzOyv7ynlWl+f6n/LMhPLJnWQEkfB/z775FpjdvbiBtRelAiURKSanZ5ENwWioXaROdqU99Qc0HPOfaAU5bMOBo47/hOCNp35W7K0GMo5WnyrDdEZmtZV2pNvUHuhLNwciOQbcnDkt27P24Jp2UvZWlEGzfLofi7sGJvVaMbRRVdP4YQBme1fxx2EaXvUS2g5jE1UWgjCOdHDCY6qV1InuwTZkWlIYGBMjPwpEjkUfG1w9sNjdhuzAuebvZyt0vc4hKwg+9CZ9wF+8McfVwQW9rmiKIFtWDIaqCjeHmIiiMToDYT9EucSXD89icaf6N1n3khFbzFCWAbFjtK/gREcLJmBBJBrsPUqz9R0ydWNqz7iOnkexOVm7IlvPWru4NouW2hWiSxiVzJ2vR1991rCWz6L8d2Y2TrfoeLZ0jN0GwKgnTCwQXoB+0bGc+K5PeTXqFoEdgtDoOwO4uH9GfvdzQjn3nBtoTOORTl0AyBA2QTO8j8CiANNvSnXie6gjGxgXUTMVMxzRA9u3fIV4HSyiNCtyW7Ra0hCmH1PbJEVbJGcj2gPEFz6WjWmNTJHkPnUQKBG0h27NnxN5cH/8AcNiapTpYaMsjFCauzeE2SdcMn/F/nc2V1cRSfuWr45qfsG1Cu2nyqNlBRO3+3C22TJHmfyPlsxsGiXtjwLCAK9vGvHI6Ba+lna0Vxjfpd11+xsgetPvpTVRKr96uL4+A1dJ9d0aLtbLgg3FPjchLBS04haxlsBj+3lBLJivs0Yp1NoqpDQgodtE02wo1BwT1kj7H1JUSystImvSM1Kenxlm44HNX386bjhJqJqPYxA7xNMuzEctcEhUVtzja3t1pLzgK+INgLe6P2wInILi7i1dau8si6hZMONX1StUMslKtC9lIhpxroPn1r0Zg11WT+WvWpQEVhXfh/tms/zrsDfQSmivMijEDeY/U4lAozd17iEn59xbZGDR94H0fpCukDLEDdvj2KMSbDLrqEVUE1coJNwqqeOIOFzhniWQmlrleTXyqXDxcJuIkk6+lVKjnLJNCLHxgJeBo6jz4PgiQ/KiOrwQsL94ioRN5QirUTL+lhwEpJJt6et9h5X4ZZRSfkm1xhnKuL4kp1AeKaUNc6IwlFRY/3AO76HM5MkkRwQyXQZfHQS3OZ8mtm4s7f5yw2PbsBju6w5TI4BVyFJcwyI+uA6m8rgSDqb1ZS3Q77oKVjKllEbZ3YQpTESiodwyo6nfJDcrEqFF/AsZ3YfIznN2x8vJDqDrbUMF2dcsQKWcNTNIqmKDKMUIw1g5zIVc/4SEYvvASbkfd988qJ/Ky8A/jNNoMbgFHxhDaAsbej8+UUXNXuDqeV+c8zk0bCknDtAyp8CqNCRkdjhMXoKAlrAOIrxLwC7LNdl03NNUWEMX0O0vS+FMr3QW8LpUGO0XN5umti4BETTvqgBosUU2+xv0B5tNdTHEWmCZ1PsiBweDznSxWSdFLd1b3ZQUeVsdQWAAFbGcsqCAI8VYYpepoY0uAivYy2pGN7XNjPe4bQiicS8bcef6IbHZDbmw7vYtlIAzF6aKJCGfnSfaNbXpFsXy/hCm2UBjtmI37brD6fsUjh5iMuyawUUp+luvlAqkRxCViojbq/TB3B4Qc39A6WrbXrTZuL8sZGn369TDQzcAgK0AA/GCo/IoUUsw+F4AGrMUeyg4P7JxcYBPYNTZF+Dhuj7OZeT9+X+hA7Q/ULVKwl6WP1Wpttog4eV/Wg2gWd4tbxD50O8eoG8g92WXB2blh741MfOH0+/HEX3hSSluCnWPG4hvE2CsG3IrpQZvI3EJH1z3ac/9svg9/OPRz2AINoQxuIDaughid0nN1VoVBJTUXQsU14ZnZIsy5fz1Sk7XjOVwdCJ9JpsBS7Qy4hvUp1ur+12KI01ans7HdsYmpIoGLfdS/I6yW4g6B44W3Fvz44oU3NYKl4jkAoCfP7wdk5z3eOTP4OZs5XH6Tlbokq+alzh6hJ/aQLQLJa9ZPmom6gilwJMG+3LS6L8fyDaUlZTiwVO7yq4w21/S21Shd+g5CPdjEy74hmS3H006mBvS/8qut54ACq8Bmk7ZTya0I7jPHuha6yf0IPnoeMUSaVslr4yJ2IhGgqUcsaaNYVBQEasJOdX6qNkILnEVZ6bSUX8qn0WqtZAcaV+bD0tc+3iWWglMLcd9lAfSINAKHCC8z7leMQtNYminX2qg58B5TGU2GH9OSMa0tzn5CXb4E2kRB5taJw8l/LcT5SxY743JYkqv0WGdkgT+enGtQiOgln6MGjyPbN/Wz1BArK2CFPJAsxMn503aOJwZ2PTbWzgr4in4o11xjFIVNAlYfaG4Wg4BHJc/e4L6JxnY32PFc+pemA7ngiy5UuAWxLJsSxWKqC96uXtz30Y9xkWOSxzjRcXmlRlgPvJDNXl9Yv7YWItUrd+4liWyNsbdDR58aQ/VMjfAgFVRk14l7Xdpp6YGtVY93GjgqsBY8Jcdly9EJ4uop56xt94OoWvRciN3vDYUdcnYYoA5U1iex2WMDxnLsmsHtMvgG7ygUpHOunUdGrPTXS/H3O/G9i+LEkPlZ6qmFwvRfHKxaDkP/EEUBD1y4aldIwvPn56YnHuIE3kDNxt5lYGm0wtIxiiJNU0XW08DRG6o92ikiJy1NKn1Xs+Luobq4JmwZWviwUsorFKjPC1uWWK6AHXN0jvYck1GGFrag3e0L1IWGXSmAP5LvfpeKqeQL60L90UDHHZbMlkDl3BDzDyHeapV3w0n/Qcwy7KSZELlk5DH6vlADos+j+uQaED3FEBZfTGJhwU/wSHrYxp9bM3IAcH+cOlfJ27zY4jfHhNIJ2IgZ8eAhTSRkEL9WhVjk7MCqBXoaGSpiSUE4QC9zblTFQe/kCwLcSkXB+0BnM48CsWc1BqOifx1DdJ/arviNNuE0bT1dhQ2PGLAtpduUUH+LDLnpNkb8sJDURktl6XzkpSgH5F42Aqiz0jA3/RoLFVQHSrdYgu1XFiWKxpF8BZ+X8wqxbUJ2mM5B8PLMk6EgzsTt78b2pK0JO2d0STJCzm8deGSsaaLeeQBbgNL8hZu3eSSP+tf8AdCowInB7ASfPCcdKKUz4a1/AHGA8kaaOU02xp/kafqyErLUUsdTFGSGhBwp2vmjFPmzo0SBbmkBGU8wANe5nSiQUteDNk/j7bmBvJk+e2LT24H4Ej/Q196S0oqxFOtkPVs/QYHSgTrMby+mrtECSfSJkYop8pZlPFy8+gSgk/A2cEZfYFIGSk8HUp6NUny7Q32pk6xHWurVNTjLnpVjnvKg7i2jcAw2uHkk5pmlOtNVY18R6GBGkWCgrxvvuGQk4WXqHCGe3d9RmYEjAkGUF1K585H0RPkAkTWLbaUo2Ysnlk53sYbBGEFSPInJdkT8EyzPd3ylWc14XNFfIASiF+NcCO2s2Ly7x7AUFqKOBA5ImJ+nwo9yq/ClKi3JYlvySKJ7Tal+L2FGhNsUptLKFs/vZdZ9Bv4rgwPKTZ4RRjdr1QIFXjBiYWODPIlyX4R2CBso4HSYDx7MZC5EcF2PFXxQLCWiFWVsBwbB7RRja+DxNBpJOgqcdtPMcnAJxS8GMIx1jco/K2GM9RxOuaNBDm5argCRoA8I7RPc7oyxS5y/4Oq1Bsl9vX1LjhUdz0H5qTkjQ2jAN/uak7G4A0yTsfk0BRtstKa6N6VhthZmqERpyA+Az2kTdKWL3pX7rapETtRRaRNLs9EI5iAODZedN230Ii68Z/d+n+Dv7V8+t+MY8BsdblsCn7m9dK8nFDrE+rSHnrGLM/07CH7VPj08Io8et4Rlz2NAzke5kYCHiWLeZoHniOcQoq60LVSQp36uFXzrcyg6dmLAl/qqPYiUP0V4OwVAn2JVR71Ve0h95WAEt6H/27Nb/U63aXIRby3XoXnRrg7eXY7gHfC8mWwcdhTJh0TeRlPz7H0NurGpdkBGFriKqVdcUc5DhPuhzshPtc8rWNn13WA423hfRM0mGJWBNHb+nRnnQo5UgvgPDSgrzMZNBIrw60DLtcsSNyJTw8Iy2MUO+g2FcXmilp8dS2pTKSSI6vICgRvjVUdBweo8z3V7nNRzPPHS8XcWT54wXmSLnJEBTdQjzfHgoTz+5mryF3gLfbvTI4fv5qlUOSf4cSH9ZSSjX1HUyFIsbB4rCLvC8Bf7+DgShnmIEe7qc8bIWGX8aIiHvTXvkq75fJkTnA+ytWu++BjVoa1azGxPN1Y3dTC77zMQu5TlELrgtpbVLwm3A/Rx7CZCdy4Glxcw5ou/+5CcwOeq3bqU63U/7/TRaKM88sgcnroQ9nyQA/EGBW/KQb6+LU1TIbXUbM3zrJ8rmN7gVGk8I9y7CUjApcAcL12YI+H1saUGnFWWPQRel11/kkOQHk1Am2ebOTsv8TunaaCIDpx2DeLdHPNaxMzXfS748BiyZej8aFJIa4cYJ2Yj+nkjWTnWpeic54bGDQMo5Q13uiU46H8twu+iiBuPxnuS3270yOH8G2Blc+CDMjfOEB/WAOnXbjw7cZXsq42n2vXw9BgqFYuX1gYOVqyoMRaNR4goOeYqZALBUkQaSMRm4Q3JjYtrkn/0Z2hfuf5xxHihtKMQAoKEHdiES8X+VCjcyDqUyPNEodSIqZE0hXK1Ud2+YOSSCHfKZ51iZvrlZwGasf9YS0j2HlKKuz0kZ9jqzS1DIrZ3n+KKQr6hkK/KTTl4G7nUWFrB0XqSe69i+Rb3qYcxFTNkSRTEd1jBOPkWH830KvaFp0usjdQOhLzZ3ixrBaEuogFamgqm3F8+ON5KZZj7dyy/bsVxZf5GimdkOwkoFaV/YMuo9CNiDu8f4sUaT0YoZSOnRG0P5bD2vOJDAJNm52WFBAgnfhljLK5sc1jQylCp6bhzQ1JOsmShAYGjtAjF6Y2ChDw65eYKYMTwxVwTkkArzcAczIdyLltW+itNQqPc4IhCQ/VweCwMLYEx/ajy2AxuczGOhdTMAzAeyWWtnaiJYtwEtHXBo9QuMuiUORKcoQLDoysM8lyl26ROVjXfHtAoIBm7XX2Mjtn9Fsxbtf7HjxulYdAXPPawx0NPmwFDRYdpJ9TKcjT4k56+Zs70zgu06Yn2Fsjd1dI2avsbMgk8ijpc396H2P9OCY/yYMZkz5JwgUj4iHDYX6XEPEgcRNyYcag4TdSp/c9rieAmwPRJ8xqk0v+Xltv7uKuXNLz1AogzC2JaYVoBfKFAs2uqqHQLDL3xt5QB8aiBG0/6CmXqkvC0e4qTCEgkIAQ3krQFhaDYCWtJeRwOU1nbbB15p3UKLFByx4KTiab+gEnfWsCANkK+sTRzJ6BaPsUR3DoXylU1JDc7T8jc6Qe+1SI6rSOxz0/pEM40+3BF8roTL2W8K8S9VrywU05WqZg0u1eIxT5NG3wsAvsx3LrPP2wGzRjCm15m7LAjvuHkDklxZ7BJwjWNZNPMaCFUBdZ5V9IeNuZdhyZ4CQEfu3G8KoLvm+v/lwk2/xqzUWTo35W/YHAUixfrMzTIQDNpvPx5AhwOLIgeyaAQLQtl3jEPrOwepiCCBH6hRb7qfzI60ddenKZlH5kcwYuPXrNQLWh8i2iFKYUndTA6McyJb5sZFofL++VNpzjWweezID7tjU6z7Y5lHijgaIFYUfRq1QEoOYjpUlJlawLA3yGw2Q7FbFx5f8Z/+HNwHGtpsv0DPgGYfiSENgJhhAWlrOVpTAVSXkFhAk76/fNp/pCB4VX6yAv2aqzTO1LMJ5QgRgETLrd2DVrYGyB5jqv+RLEL9mmDiuOceqP/QBMW7mzdzVyN/hkcIySiPt2x/WmGSjayZ21Ar+rE4WYS5qJJvl1ndbHj1LNqyauYjyeC4DVSDMb/tFgbMpDp1BR3YlUD9getbdXWtp31trp/J7Re1oMa7mBiSt5gmO8VJhxduioM7PGQ/mISqSMmtsP9CyTNWJ0+b6T7AdQILv9ovpTSECDczR2URZoYh263QJ7ssv2/ZPI42QWA9mL++mAd4DsdHT1lKekUaZmylsrCwcIVqCMthkunvWfueOWiylN84/Xx20u92QaXbAfptCTnX2UVQ1esSAR7glgFgfrnjWTWMa47PbARwsyeOoasm8XHndW+YJ10TP1x0fhwSVab5YoX7PV23GTq7Y1Gxfi+zzvimbAmBjoRwhNidq659g4VunNMfpM/LtZoFOl71xSnFkE4NENuyg7bK4nOhQi0hL84Q23BIN/DIA8bjedElz3UraPO0DgqPnSdbUNq2F/GiLlrR/cvhqd2XdcIBsyBrLjOflcVZ89BKska8582crApruNanmYkuZPW2Tw971kwylAXrCb9Z0isHpDLdKsWsRMjNZ9EhID4J+Zvqc/1avcjaCIwCxYfLIZxduJMzrkXhxT5roRsJW0zmHIEPmRyF/O7PF+GD2orf1RLaBFQDRsmNOkS2PSU3AFSuOebWaGwvR4JzWHZ3u9CeM3ExyJdl+tMtoh7Lc1MrMfqJgEjVU1fa8DQEM/Pdwk0QMoVu2ZPUHi8QJ/5Q+9XAuaJ+ktJU1c4ULy0wShmKSwLQ75meL9Njw7boLArz1PJpuuDYPvlGg89GoDSnmKJwR5MfTg5H86r1ksZkAwaP4TL18S06ATv8ONK75MjQfyRTC9n9elR2hz5x8SsR9okuSj0l+n11F+/SasdeGe4sIqD6FCB1vrzPKRwcXfe6IGL8TpJU38mDsFngIUj85Cq5Ul7I+jHOAWfQMCY60gwqvyEge0pCNJpFsBiqC8t2wpW6XugUy8aCb5RRfcYj1KzxCmUTxF+n8S8LHMKDD7qD8iKmC0LY5+WhB94hB7f4vbRRVVbvZl+YKE0GcurHBBhRupVTEsVbS9A+k01re03m8CeG0sHNOGNcGWwdqHt5jNao/afkiSycHklhbdLZHhvp7HztmwL2iDm3fWh+HaRlRH1tcNdP1JqAqfRfvJH1deNWwiAY/JlHj2DfsePM59h0bmVaj/vr5vHy5vY12OzamFAXJHbXMPEkRhi012tffWYD7mezuwGWo9aLe7DkvM6IjHUqY1mLbzoTHxmE76IDsRGhl8kK8r9ukPXAYMZiggbew98YbwJlAwzGA0fEb2xQxeO8IaNMA/3xM3kPCKn3q1OxNkmnzLdNtaFMFZ7aST9wgegn9+MDl4LWgq5Pc7tW1Ind1m21wmeH/mKeYWpgkdZ+pQdqd6bsFAuixwRj3ieKgYEDAKJYS65cBPhS8UQlze1pag2I7EvxDcH/IOGKaZoQjDLuOBcEyVYdwbu/H2y6ZCfdQ7HQcnhoQshefAXD6kaHuvzgeW7NOB83AnQJSvrsYFyg+pj8sNzM5zpuP0Z3I7GCuAkFH7rL1BVspPLPFXGUzCAiTNUyUjThpHbtVTdoVUa6M3oIOc53DFUpM54mQY1qYH9Z1xELgt6KyyJCKLLNAJQiQlfzMEf+N9Ar9tfCT/AcK7dfk7P2zQ1giLkvD/HCWVUxUQWw2nrfZKlLUVzK8tzLRkNrEmkc66cFnD48kCYB2/N8z8CAltF3VOiYssL6avSHP49cTkFLrGsO7hMr1Ym5rTaFGhPqN2DfGAUU6Pjs8F6wnVQIXNWICeucYDV6MdKZ3bO2BesExjcwDLZik4MaIJycbgNm+QcSz44Tk7lFbvgOnOlmhnZHJ3o04saK4l15FXYsvvMyHxD2VQh4vN8ejwj7ixLqxh8J0QRgwtWb+NL1VCSllKGYnh78k0WnvaBzSloVrg7+wEO3OpCXa0OBIz+hmy7GqczQvRE3GPlHSRlK9Ilk67XqCCY9kRdEViXz67h4FWwNBOMqfFUKVkwJED/udtnS0prnU5/7x/qSB6JKJQ7cF2hIL1EXHsUevjBzg3UVPToVWeIvuQUffUz3XkN35yV/BXIELoMk5hKx0h6U8+kW8w+d8BFDFa8t3FZG6PWNubXFzeU/87ZWGtHtLp1rfSXLpcjBtr6uAtaVHAA2yvA0wNTThuHkHNUaw0VtQ89OXHL65jP+i0FeidHIRyVcaX7+NsYcH/XGRJHeVKlgV0q1YOlw6d0YcnMwuICxDvWA9zfqt/sv8qw9uF7H8jbNea2HDgawNq0/THWMSDuFvIRVk18Gr9jVOZoXa+mwnfeKW5EY4TyY1hgTYEFberJficjoFzXYq43VQsyYqszkZvkVt5m7LTjEA0JGs6sluk+l+4lXKXmCmPT1ry9SAkBEr19VllUxqBXc9fjg5yJQ1fk9nt5ej+MG3HAuaDWuiyBCXeYfhk6TkRBtR1p6kclewa/o0X/D6vwJPOf4gUPLltE1BoX/q/TOiUDBw13NU2hG5t3KlenyzW7eCukN4LFHgtuF053L19sqcLK37oYFFgFY7M9VQLMIw/QDNqCk1YiugP88xM4axFUrgkjYibRd90T4W2ijI3yz4q13gJcYvayuT277oKVjKllEZ15en8iL7BvxLrMKAhq/uRy9YgicH5AGYvT59Eb8wh2wXGSWqwu7cwTCzKB/eAwkh/HWOw6zfdq6wQChvBtLc5QTxKnK8Rn/PCrvohbC4wfmD7xgzfofLtIFXcx2F1FVv5Mq/PjS7pmUOk689J9LmrzEcI7DsU4Mi3/HFvsXO1EgxBqDzrvSvFma0acMx1dbVphAADPUeqWY+b4us90sBfi3bm75XW0BaiR7G8SwJbRXbG9rTdFrrLtAzR8jdGjQ+YH8IJMJaNS/4jsB0U3hk/r+awZb0l5kGqPcsIcs0NhAXHsvgAwbqnpHPOo88twTLh3Hz4QYSmZdbJmcStIMHlkzd26RdZk30JHQJcns5ZIIyCzfxEv94oKAJDqojJQQWmsB+4to+nsTuyzlw6A6tdacUYWecDpbr5QJe1OmhWKiNoIHgp5cDd0xTtCrJTtFA2o6347DyA9D/+cjufwJ32TCHg70utLjgLctFW7EiEvaymI5bREHqfQXAv4F57nT+sDhyvvsLmPU++5vWZ6Pr8/rZjOwKU7y32m7leMv/SnhDXyIyL468WGVqEhabL85yvIYAuri9fUndmRPW8s7r4uuD40d1seiFXy7EKJvZ15jY9svq81aKWE3qxT5uc9gYIXp8a0fiTr5NdPqdWKlZGdtg6RINzqnedja0VLaywj6PV3UVZ/etbustTCHYOIdRr6i/unjaIuen++H0Isf6Xp8EjPQttr1UBDjKzuyZrxIshGoGD0e1IOWXSsYZYHIYYGfYOSTkJQueGKTNRCSSpM/5n+Ic1CKz5VOtyxmA9hE+epzYw0Gpw8dwyIjx9PCRFBjJGNdVOtZPYj+SMRBcUrDAJFkBwb6lEK0apjhOcBNbPtuouQOpk3UYIuZqa19axHgOQd77NezCUAJfAHM/cQ+3l85OgPoDu0mnmNs1oX4+i9TOl+lcY/D4MCe9CjZeVInK+hyOiAdcYwYarOjOb+2jO6QG6JTuGk5uU4mSzEsJZFUHK8SCGUWsf8wVD/VaXNP/Fr6I6ZsSJ8m3JbXf9JooDKET/4TUZ4b7/p/YdkGtpUl2LDyC6mCFLL3WuWnHgcdUmtuZLgGqzqaWgYXgcYIWEAcv8UuXMG6Ec2RbHv6CMLAWdEdgZHf6jVpCGVKIUDBhQMd+O/ZBuUI+yjKSzCmCzwE8/jBO0pIJ0Ot5ZJXKKXGrJmYkFSzWEpKaO0/6zjk3hQJ0YckuCBI35xoIqVW192vo5y5B0lb7fOIFBNSZsS6+ILseJCBZEMid1SYODm7slnQGUF2lGyXeUHGihylSnr0Q7QXdnxDN2DhNQuszjbqkgXhNfL35UfstS3uBnc022WGQbxexVJogbenedvHsBNoKGX2O2BTCKB4Q+WXtWsBNkAGYmRPdIRP9KLoqdqm2LDvDj5hRvv69HpOSFfEHZF/XBgeUm6WLQOJyw4yU9j21JVx0Ift4cxhwk269ZyGZ5D8GR6gbwJufzisSMce9e1Qj0OWSNFdc6pB8kq6yC4qNhvDjEKwkWEVLd7p5dI7gQhwf/j3jSQO6NRI+v3IO0AFmTpv4sAOMLmRaADqnrOMBO7ZVVCjX4fg8BR5yPIRSzMJiO9DdfbGeYhNb/Q8khhj1og2WxmQBL8BF/uL930vezJ5ak1lNqCOcS6b/nqhnjtlXPQZcGy9gnbgAmqH+zPM85o41ZG6RBkaIolN8T/th0FAt2PoB+u/GP45j9SShgdXsRWStbgL2dBxvdJrAyZw2sVFKj+upwSNk2MbZ0OOJcjMzuv8VcyZagQitvXWKgV+2585ICCWFMGnkzyhHH7EF5DmdU+9Xp5wIX8jdi5eWjW9M4w9sIRQwjk2WbPC0E7xPftHYzekrOCBdooM16sPHApOwg9RD92G2AE4/x7oK3Rf+wgcpjeogEZTh99Hf4dxXEgpZb99RRcuQ+C3rLMIQTBc8QQS2/0inrFiYrzWD7rpS7LKzzzczHi6lRskmLf3ARyFDbA1Nmrx7+Je8cJbZTTQuD2ohn5Emw7s599qXHzUnUdseQLVIFAODH7zoBBZEyvXr1+2QeQTPNgNaYFnzdnK+6ecB0rnAnaewuhHP2ARXRg5dAnbyCoNlE9/q3bJTa7Y9vJbwskKEfkdSmYxA1P/RUeB4vQ90cs7mQqCtV1tlwx5o5cIAgqNlYHDicLNWZgITjTOvwKqZoA1yI3CHcq9/K29kKEII7A9s+FyZptB3sbF0kmg4QcuBoHbKq0yZ8+RicgThmFcPEryrVcVNCUSUl22Q+2LzfDc0SlCobzH6jo/Sd2sFzdfYBIoyR8/5fFkQJYTBckW2VhjOTG1Kut2shJJGrLI3CmOQWIUs49G0ELC9N2VDHsifG935wboehoRBdLD6xqTvAIk/ffWKKTSIfmebqQE1T5c9TBdrLd6dp0zM0eKO8dqH7aR4A1jtt5Vk3NzCR4FYvv2ROcUXRalCXxfiRaHBOkQIUp46YC6LRXaOwxr06GblRTM8mkNtaZ54pADIgrti7gv3ldx1g3w5oUVyrbBOgQSiMDys5sQ9ZlOfXYMP27hfYyYFSAXDN97a7DGgNkSIkXK5H7fvFrOWjipahpdayFEP1Ae9ZZ2JDtxF/OmTD0X8N4Ff8R2sQ7pX3fE4UNnd8XS1dmlbSzhRS7KvXq9ln8CirsXz+O+J0KFv0h/eP+ZObxquEhHZbKPII9UYSYnFbsHO3ayjbR4hJo6t9Jtovm0g4VmeQRl7ELtao7fhQje/6LUMbI0gXNxm6ENdIyse7Eau94vO6KnXzqu6vKKwm/Q/o5j959sKl9KXntXRTF+1tRizwFyxJYLOJ8BXI9auhZ2J+cK19NVdlqoretoZ6rDhGOnG6Bpltw99mJx6YPsLRTScejgQvOCyXS4hXNSuvdWdAAql6WYd8S7idzSpLTih/OCsmzeB7I8dFuKujLUzjLg/1lY8nVnR1TmutXajZbM0an03ALiYXXiq3j0p3kNtV+5EGJxd7Fw6C5mzbA4gDm3YtOlby76skGLaNWc3//M4xPWPoALkDzIFnmtjLUzVkL0EfHXEjzjkWmzOV17wrl8hV1SD/q+1ezxL39cHbbDeYnFM/oA8uHI4V9iZosxaqlBbkHvnTyOAbOcmMJDV1yT9iEzztY+kN3ipf9m979+RJZ4I3Xel8cJZ8euZ4qtCXtxuvYEatwi08VgftZKnMD1cToeQDkqEUtpqgIWqDhHBG8QIpGfmIG1z00mW+3l9qH2rPBCTXS2gTM14+nne1eFYq2gmX1K3l227zFBZYJMSSJ6kPWB/B5igqTpcQZ5lUOOKR4CYGysXG0z6vPeDkaSjjQOWS2dvTYwtPXiE3QAA4HGcS2tmW6cDJqhy596PfIQEFFFrz59XpIq1JK256jP04J+NquU9VV6BNelPCjIfiT5hVvZnqvy8H3Mgz8DvU+r967sxT/JLrnoKbkmJdijjip3pBMk8XSUgwUAFHCzcNT4UfGrFVlWNRrBLYMIlj4Y25PbBgDttNJ/LaO8RdPBF2+6OLZxYoDdc4jIxgSDr4NZ8Zh021RWtZ942EU5acyseU9LqnDmhDQGTw7dDr3apFXH6MrAm+GAKc4wFuOeEff37hMw9jRAoA5m6+iWZSDOa/y0t0Q95vHulqm1BBkiUW3TopX4FCRiRchcSPrPqtAnR/am4IJ2MzB2iQal6S8JPUVI7rKLfmVow53w+vmw0dd2+qmP51PduS+nuXkAukIkDY7cQvA5RriSZfuLbrRiaouFgSsuyKHW+kCiTeSYgKPSrkuVkPjn5WrpD18rmFtKPEZPhH3D9KTiGo2gTe3Eilx80vX7sOqipo9d5Cnqie2tuWumlVLlq8D7r+gtg+gn8QZ866nsBWgtjjTwD0GxMeesKkVP4khDPoDu5+NtLHne36VVke73hurVlNxYkeMSiWtfSYkFpGNhCVaezvzvvwhhT2pDevhJNNyWbhCJkLhewBrKyAVIe7evmq0TY2KB7o//EiP7UEXoT5min9L8kfpwu5v6NUsi9M4/S9PAqLV0ktBMX+73N5G69BugHw6SldP+Q6LwrwzuSsJfRVlRuFIV16MqiJ+Ouy4bwHNsNMko1vWUcSeodKg/BBOiG0Yo8+YHXm9StgStFrEGiqYtH3iAXULYkHv4vO1iCEea+oSpF6HtwDBUk0j0ryNGQjQmBeLlwbTjzijXwhmtQg4IBDCJ+yiNQrc1ZTME2adBAG5xFMnYS5nywGqqzWGCkWMP2rIzXET6mOK9nudArwvrCAQHSvZUs2A/8AplGbfSL1bVMc0RpKLZxiSALxXVjRzfFoVlaxpFSF22dvnRSbbhj3Xe6LEI2dNX0Jt7chOwHBggQYMzqvR9JzctNA9ww36ThPvUDf7H7P77qdZ79ahgEBCcYslFTz1ANUJweDM0Gp3MBM+3LPN7B1stXnYXizftf8OJCgMfoCQe05uqbRqmAUIue047foXZnIo0kbogCkoZV7D+r3AbSE6dxylZ3QbXQSKhXNhmNTvrmWLGcKr0YYzFL98JtkDUlLyNtvKtW6cDU6ATgrHV56qo6dTAwYueeIh8vO90JnrRHRy3tVTLio9LVvPMELNxMItfVy0NIMbFinnQL/zwfJVIRhE06oQ4ex/2So7iEg3nD6jykasrdqppUhm1zzdPtUWKskemKpm5yHzSckug9yCP+L7up3G0chtz4VjVwneYAQrMe0orM/UhskR6J7mhVFJqUeQZ9NA2WwtoazpbfdYku4Z06+zFH3witZrrxgZGvQqbLMAE72XxgR9nM8y4lfQW8X9lIS8ta5GLnSpkr/LnCMLrxRXQhnRmvo+D+XW+Z3TDm9Lzjy/DkQ55i+q8Au2AG74XQ8Kwx2asmT705MzMLP50Be6T94UzE3pt87NNCcuMPhh+7UviL9m0DGsjjCvE+gzReO3yDOLjsfPk7+jJvOtlQbYc/29FDr25ZZDQMQ9/vWQm/iXga9aut5iTBD/Sny2VMnbMrsKZoTYcjb1jjBLIc6mfBtnNqhgJR7aiSPASnP8q3ipMgOh6E+zS1DICB0oxeS6+bu6oXXEXEtbZsYYn4UrtCRavbirHmM0d6nv1rtGIQHn3iYg+WFo8qOFL7wWR5nEGOeW/3uPlxlNjqLgyUXsenp7s/Ig2d8cWX+WhN0koqPYtt2KPmiT34D3mTYblfvYCQdpno8565JeeWMUhukAXqlsZirOeJQ4HyenYrj+G6gMLHLn7upSD2MDEOj+2YLCGuF+a9cWcfZWAHXzXdKj37G72OJt+Ni722RHxRw3/p+Qyxxdt46KAnryjAyFVp1wKqyEJUjqzxWciNYaa5SYGLH5g0GyC+xVv0lEAXfXEOBX9Z4rjnQRlQBvslkiK8D6oTAirJo0sILnMUXjkeifT3dvcCHOTd/sFBcoHOdecX4Vwgw2JObG5R1lQv/zaj+V09ak4jmmV1vkfE6waH07NcIEMBDx9xqGt/RKqxDUdV3zXFHGf1r1pqyFBzPwFf9cIAbOr+hUD9LsOuP7z7eqDOYt6nA+oaMGWh4NUkb1uC19mKOqyzKMh4QObiLgRY5/mDwj73KOWAR7lthg4vd+8nkK8Kd7n1NxcS6GYlFkSvqKjanSMmYWEfiar5MH5QkG/53AEfDeRYksy3FKKc1rjYbfM6BylXfz7DcIstPVtJAB7e2Lda+74jMZCC3UrfuUW5sJbMzNFJqFFoCJnqLjbRij+aW6Rm4HnFJh0KaRKtAmOwWOFkPVPPki2r/9pNIY/zlcAH/DczHFVplLm3BXZNXGdTfwjVNXJdcKQnJNu25iBv75tq8t9GorhFH/FBBnyElKPbFk5t9vaH0WjwvXnSF7hntofA7Q7le/EhtJiwlNIAIeZJIA6t5u/Hgb6ETULJuSvKcLFiIKJHwLwWLoSPqqesruXpbK8TMFzOX2WnK/i2gXSUGJGYBDDUseTPAVIQEJcwFTrJBm3l7w1BL/AgqZG9+mERM4t8NL8HmoQtu6QOEm2DCQVhEOno1v5DGG9rQ7eFh+r6quqCLytia/gJCvqnHT3zHrgUJBlcjJ52WUQgdmdZ+wqAwt77E8iixURthqCCZ2X2oTyfbojibk4bIXDeMQoPHP53BXGrdCUR4kpsjtFWnVGmXX21QZxBquAHaEnKbbOWr4uOG2S/Xu5KYLdt5PeuUrGcO3QVmM49w2CI5q0Y8xcPeDh3AhD/113DJlzo9btKBcJWyb2cAkr2fmFZ8K8QKjay2Joeu/kNhl+SWzJgpXwD7tAhM6CvRNYqLGaVXHEltF41+ZHrSU0cqW/a75P0qYlyy4M+9lJDdW2l2cTSK4F8m5Q1/PYbajSIGO+vszJsAQhxqjzCy3u9przHx/I6giaBLczWAqNB5h4AQ8A/oihnBL7RxsaaKv+21KYMpR41apNUSt7QLJFP4MrGA0h0b2Evhbbl9JPYCYEZhGX4duUJDF+D9c/VgZwsZwnYG3fhdzNxJL1dbK+EC0ODv5GsqbXHHOhz0HR7uz/7r/GAe4KgYE5UESk3sOFEF0CXXHCqyJxWeUJR+sUkb2rw25TTFhUAWh3fnebc3kbMo0yKTBItZ6FucTrhSr+wZQgS9EYOgsZPGe++/VLj77ASUEhOiYgGLqFzvB+c8x80JNdMp/TMjJ4HB9tOyZ225vX9uJvtVroC9UDvjZSPAh9jSxB8q/u7JZCRjUGchUOkQpwVYPmkAn4P9ECR5KFN8MpxKU4/AfCo3SNMFSaxSgCHN/d0PnAotoAEyLAVZ9orQf3TNRvRXrZfZL8m437329qNSGOAIe3HQUaiW3rbeyIpPGGzR2mKZwJofDxeSp/IdIkwYNIyMGG2hemXvWo1VJ6sk6VO6Rn/1Q0x9L3D9BCHI+6DT7LOKhdCr7bf/U++tQ/2G30YkcCiIlDluylMvnaUH6VlPU5FXi4WG8YsqSgJQRg8lKK47IKUtX2UFxFpioExMGt3ry8bbKsNU/itWJf/vogL2TmdeTCVzAv6MjqPGxvrdHAS542CiBHk0CqI1fA3iCcQ0/4IKWZ2lr7o9LFayk1sYqr+78bU5/XkOAT8psQVOF9loIcgcbT2KvucULSmf5x33f+DiBBn2fv6BapuHSIzXmT7lLtXLZEqNU5otrdqUQ5QllxPwoCVcfgQAAAwhBmiRsT/+UiMEPSmzNPcEDLfRWpIau9wkAdPQyym1EL9DrUghiNtWkBvswxAX4MRpkhOZ5UnLX+Wt1EDqbnrfTsKSikt6biIghKsOhLmH0kOHx6CIF3bhCxPElg936oCrlS4sYvPQsOFOp5FjJ4habafvWt8rTFzj/6BAXnWgFrYjr4qowIQLV1sqYS0u9Zy54nEbgIMIlrZ0UZ7t23p/O7n6Cm4DmvY01ric21+IRn+Ao+/4uJrxj4Jw5gIuunAmo1E4iEmfWq7Fr01MPe3j/znaOcAFx/y/SzhSodkmqQpzFEf42i8pi9TSKjWviITWwxV4q3J1VnHPpPU1wwoUq8NaMcSroW43ecZGlgjbngOb2pN4NLjXDfUwn5WLWstg2QW+XeA1Z+sWlWfp3/Kojt+U1skG5QH/wYhsGvkU6V3aojviqFoqktHXraxgAIwgVO7GdgX0Dm44BQCQj5jsjLU+WLattQZ+KCcQg7CPnFuFz/Lufje1m2AcMlFNU8ai91Uvr0+5J7GLYawPNmzJ8A7aYym7Opw5RAORxGsI4RoI/8Iva1nqpeD74xuoJPiPc7rZbRSSW1WRN8mBFT07hbNzSwIXOyFSFANHpvUuCmc6Vx4QP0LsLOdysDFbxwtjfzz6gfnX0nogTueIFZTLKVFqg7EyxumKUyDhZbmyiex+xVc51mpV2/Zjh/E5vZQpiy6wJBnASXhMFEzZwdlEJl2+6apqS/LT3dJs9HIIPqNXahQSPi//vZFXvipkuJFalT33PAFkMuo8B2E5WChVpgbrLj/NsYHKBp0wn/b8VnMbJ7A/+n5TEeyhgmfiKZv11l/yg3i10jJMXS+F+71+qIqNVYTiAvpipnFi1Bxt0KYpWR/7EaIILzUdYs3A6l4WWwyzbfLKixeINtuCZHgLsQWbAbCtkjmWb3Lqo+n0ivZBONFfHFfZXZqjQHaEcBbiqrp9ND40gh3YvjI3YlIIKILKgOf2clTCYu3+VZcScrpjY9AtKU6sqkuUmYt4wNkJdY8Tda0XiQAAAAbpBnkJ4v8SGi2LQ5NJKWeQfDPTJ05e9BJrMiRf3H4T2SrgmQEm2ZLv7e+TYBBPpl9nCHXyJ0tt6qjIS6LWWgAc5AKZ44Xu3BhWYokE3/3TRm6Mly+fxO/9h6MCup63ngVwL8kuqPnvYdcwGBuCrPxpV+VfngIEPgDwBgSkvQKQ/VrM0MV0+hnKDzfhKdorhuJFEHgpExC6jkUVQMXn9lPie06pRpESNPD8pGapxmnRCT4ARRpbRTUu6HUDYek11MddVUWLvqYiD+dJPgSarUN/RBNnmMKTuwg1093OYan+ILXCzCt2BCJHpDkBkzemElcBdzVtTrr4oDcUC5eWVczT9/yYBrAk9K7TIFTvI5XumvIIK1S1S4WT+7b7EZJpEIGZWsV+UA/QF4gM60iFQHb2IN3+LvYOrit+GNOr+sq/GeH+5uq2ZVXAA1RiY1mlJksGQFiMYTJNuyGPjgNm8LVo80FYNDfFwfa/LCV1oHN1fMi4LhFxSQxMeLbpJndPMLFZMuqtGp5RmUo8UR/Z5FWis1O48652Jo6DfxPwgIipPgSOsjm38tkTe8E6P3ioYyD9D/Z4dtKCAh2MxAAABuAGeYXRXyAayN/MbtL6IM8GKw4dujHY5kKyNdBAUe9HaEKV1nhVQyDiSytY3Gow/xX4S4Rdtu3jeB4yBYFxAsaOWUwOpfKNsuMT7WFS0zuyVIsaEU8jauEe7q9k6EW1m5Gxmvb7pdkSKOMguX1t8AeAFzD7ok4eLjQaMz2aesSFaXuZUtC8+c7Ba6vnJiavQLAbPeaDz0NVrlcbCGZ4XBkakyMx/eY4zQdngJysKq2ADLxaYoHF3zCRWKqnmglNs/Drw7ijS8ttyKejGFJ2RAsgmr9e8Lz5l7mCXINL1HhljXqMfo4390gROywNaZTpQTYCGp5ZVzEy20eljKikbF2VImtd0BvGa5eTWRBX7CdcAx47D+GbIHU1p9Kx4DDZ3pRqsYn1DGdgx4IS20ezfAcS8+7PjVFQhTm8USqEnVbYDK2k6oi2nBTV0kx+OCQL7+ubNQqXS4QjNuzxa1MH4uD5vvqFRVMC5qEsoltMu9JDFY9tO7zO6eXjJky6ZT/sZfcak2G0ChLVBbyuN9Qcfy59NZj/BkwzCLrUXryLf58tkSFS6s+ooC6jFJH+zUzhZl1FP4Mgp+OuAAAABiAGeY2pXAkQLpqSdJt1+vgSTwVUw3X4KmvkdWmRh/hzKvD/ulKbovP2JtH7dcIKJxAJirsgdpuu82V3JirT89AoN9ti1lko1mU88TZHJelqfZfJ5fBmWoCZhZ7CtQwsLxQfT/6rE6EfOgvgtkgx2SocQ5XOaJAGIxToiChj4pN8B1+j55EXyDegIdqFUHTwz1ukQNy/STcbjYyM95FLT1FkwqdPa3kxH66rAeFyeSxYMeYz9/Vc5y77KSZyfxyG//jPR8yeK4/oTR3fPssEEA1eAtujnu3Yf/eWaU3ahIR6pkPg6RACdOGoAJ8P2YSr3/qKY2/DInjKxCpkWIz8IqW8fOIyiSWKnC/KTa4AES7Mgeh/lQKSu0CYUNzIdo5zfTHsf70YBhbAuW8UzonRi0pTNR32vXn/ALfW7FvnT1uFD2w2Ce+wwfTBUNpQdgph4b3QkK1cxesFPHt+pb0jqIrve0++Qiyv9vbVsL7RscOcXNB+7n0GhnSDt2BIl9+A7nXSurLvfw2SdAAABqkGaZkmoQWiZTBT1/wAAI2wMBpvEifVa59pNuDAwTBXhNiKaT9xYUQJoZbgwnAOjqAW9QjlSNWs3KIambFn9yZbvGoT2NwndLG/4kfZza/7bB6glcsOfcWVcBnbKJA3DWf9tXU5RQjBphpIxBWgunPFygkNqiBmJ9h+mhRAsr9XiZpsjSZia3/ravnsSF/L9Vhlfu9vd+VKYuadt6LiNwkZk30bkgsmE9keKqtOGCxUwxLngyjoeDyX038CiCzoTCLj0GezvQDkBVOCAUkZLkTJneoJdXZphZeJGCg+wvvKmcJdU9Brjgx2EbX5ICafq/u9SJx4Dz+Oa0lrb1u45BrcsffQa5IFvrjXA//CRjP4fpCbHQkBFOw+f7RSGzWaJWcCjOdS45/L0q2ICGcqf+j/vkr3IiJkQs/luTqC4OiaIhyhBllrC4eHMzJT6TvS2AXItcuM3p5+JghV9+dSi7ZzXotOWZQGD3Xao0VdHqACW7hXSU0jOI5ofQGgABOpfgXOdVlPp9M9615+dzsfn7kAOp1IMyVgSKGPcjInBCy+yZWecz4CoSZmh4QAAAYQBnoVqV9L6lfUC9WbOk26/XwJJ4KqYbr8FTXyOrTIw/xerovum98b90pTdISlcgAov+3ls+tAJirreZZx4WkA8mcAkkYEtiT4czj/3LWdOVBG34QnrNd50O3zTUgYp7UAwrUMLC8UH0/+qxOhHzoL4LZIMdkqHEOVzmooBaAU6HlHoauxDArngErecP9KSXMKm/4TLLC3qoG5epJuVErpLuN56Cnse6lLn0W+aUZ2vwPC5PJk69n1C4Jhb54lcHqxSfyA3Uv9kbeZPr+6PZ5MPMQavAgAyGPLYy/5PWTLfDTIQCc/oSXQJAC3sxhwGyNshHzYS05Dt59hsx3Ltk2aYY/IIHgYdEvH8mpmV0tRzA7P8BRo7WgFlhFByKNKGsW44AU430aHzGh3b38QmeDNUIjsntx18jwBuxXYt86uBwke5J53GpKDkMFQ2lB2HC/huzTGq79QfG7VrOaiTzj5+JZSYGWwXB0VmmjSZIcQDGDJflYqlSv2cOFQy4zDQ7Ex3PoahAAADfW1vb3YAAABsbXZoZAAAAAAAAAAAAAAAAAAAA+gAAAbWAAEAAAEAAAAAAAAAAAAAAAABAAAAAAAAAAAAAAAAAAAAAQAAAAAAAAAAAAAAAAAAQAAAAAAAAAAAAAAAAAAAAAAAAAAAAAAAAAAAAAAAAAIAAAKodHJhawAAAFx0a2hkAAAAAwAAAAAAAAAAAAAAAQAAAAAAAAbWAAAAAAAAAAAAAAAAAAAAAAABAAAAAAAAAAAAAAAAAAAAAQAAAAAAAAAAAAAAAAAAQAAAAAEAAAABAAAAAAAAJGVkdHMAAAAcZWxzdAAAAAAAAAABAAAG1gAAIAAAAQAAAAACIG1kaWEAAAAgbWRoZAAAAAAAAAAAAAAAAAAAQAAAAHAAVcQAAAAAAC1oZGxyAAAAAAAAAAB2aWRlAAAAAAAAAAAAAAAAVmlkZW9IYW5kbGVyAAAAActtaW5mAAAAFHZtaGQAAAABAAAAAAAAAAAAAAAkZGluZgAAABxkcmVmAAAAAAAAAAEAAAAMdXJsIAAAAAEAAAGLc3RibAAAAK9zdHNkAAAAAAAAAAEAAACfYXZjMQAAAAAAAAABAAAAAAAAAAAAAAAAAAAAAAEAAQAASAAAAEgAAAAAAAAAARRMYXZjNjEuMy4xMDAgbGlieDI2NAAAAAAAAAAAAAAAABj//wAAADVhdmNDAWQADP/hABhnZAAMrNlBAIaEAAADAAQAAAMAIDxQplgBAAZo6+PLIsD9+PgAAAAAFGJ0cnQAAAAAAAGZcgABmXIAAAAYc3R0cwAAAAAAAAABAAAABwAAEAAAAAAUc3RzcwAAAAAAAAABAAAAAQAAAEhjdHRzAAAAAAAAAAcAAAABAAAgAAAAAAEAAFAAAAAAAQAAIAAAAAABAAAAAAAAAAEAABAAAAAAAQAAMAAAAAABAAAQAAAAABxzdHNjAAAAAAAAAAEAAAABAAAABwAAAAEAAAAwc3RzegAAAAAAAAAAAAAABwAATkkAAAMMAAABvgAAAbwAAAGMAAABrgAAAYgAAAAUc3RjbwAAAAAAAAABAAAAMAAAAGF1ZHRhAAAAWW1ldGEAAAAAAAAAIWhkbHIAAAAAAAAAAG1kaXJhcHBsAAAAAAAAAAAAAAAALGlsc3QAAAAkqXRvbwAAABxkYXRhAAAAAQAAAABMYXZmNjEuMS4xMDA=\" type=\"video/mp4\"></video>"
            ]
          },
          "metadata": {},
          "execution_count": 20
        }
      ]
    },
    {
      "cell_type": "code",
      "source": [],
      "metadata": {
        "id": "DCnrjCm5AKMR"
      },
      "execution_count": 20,
      "outputs": []
    }
  ]
}