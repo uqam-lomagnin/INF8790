{
  "nbformat": 4,
  "nbformat_minor": 0,
  "metadata": {
    "colab": {
      "provenance": []
    },
    "kernelspec": {
      "name": "python3",
      "display_name": "Python 3"
    },
    "language_info": {
      "name": "python"
    }
  },
  "cells": [
    {
      "cell_type": "markdown",
      "source": [
        "# Algorithmes de parcours : BFS et DFS\n",
        "\n",
        "## Exemple d'arbre utilisé\n",
        "```\n",
        "        A\n",
        "      / | \\\n",
        "     B  C  D\n",
        "    / \\     |\n",
        "   E   F    G\n",
        "```"
      ],
      "metadata": {
        "id": "lLJx8mOiTBFv"
      }
    },
    {
      "cell_type": "code",
      "execution_count": 3,
      "metadata": {
        "id": "Lap9R2L-Ssrw"
      },
      "outputs": [],
      "source": [
        "# Représentation du graphe sous forme de dictionnaire d'adjacence\n",
        "graphe = {\n",
        "    'A': ['B', 'C', 'D'],\n",
        "    'B': ['E', 'F'],\n",
        "    'C': [],\n",
        "    'D': ['G'],\n",
        "    'E': [],\n",
        "    'F': [],\n",
        "    'G': []\n",
        "}"
      ]
    },
    {
      "cell_type": "markdown",
      "source": [
        "## Parcours en largeur (BFS)"
      ],
      "metadata": {
        "id": "ggXyhrvfS5Re"
      }
    },
    {
      "cell_type": "code",
      "source": [
        "def bfs(graphe, depart):\n",
        "    visite = set()\n",
        "    file = [depart]\n",
        "    visite.add(depart)\n",
        "    ordre_visite = []\n",
        "\n",
        "    while file:\n",
        "        noeud = file.pop(0)\n",
        "        ordre_visite.append(noeud)\n",
        "        for voisin in graphe[noeud]:\n",
        "            if voisin not in visite:\n",
        "                visite.add(voisin)\n",
        "                file.append(voisin)\n",
        "    return ordre_visite\n",
        "\n",
        "# Exemple d'utilisation\n",
        "ordre_bfs = bfs(graphe, 'A')\n",
        "print(\"Ordre de parcours BFS :\", ordre_bfs)"
      ],
      "metadata": {
        "colab": {
          "base_uri": "https://localhost:8080/"
        },
        "id": "GQEEMxhIS48d",
        "outputId": "fdc1dc0f-2e16-4888-a186-3b6547fee232"
      },
      "execution_count": 2,
      "outputs": [
        {
          "output_type": "stream",
          "name": "stdout",
          "text": [
            "Ordre de parcours BFS : ['A', 'B', 'C', 'D', 'E', 'F', 'G']\n"
          ]
        }
      ]
    },
    {
      "cell_type": "markdown",
      "source": [
        "## Parcours en profondeur (DFS)"
      ],
      "metadata": {
        "id": "MacTlmY6TW__"
      }
    },
    {
      "cell_type": "code",
      "source": [
        "def dfs(graphe, noeud, visite=None, ordre_visite=None):\n",
        "    if visite is None:\n",
        "        visite = set()\n",
        "    if ordre_visite is None:\n",
        "        ordre_visite = []\n",
        "\n",
        "    visite.add(noeud)\n",
        "    ordre_visite.append(noeud)\n",
        "\n",
        "    for voisin in graphe[noeud]:\n",
        "        if voisin not in visite:\n",
        "            dfs(graphe, voisin, visite, ordre_visite)\n",
        "    return ordre_visite\n",
        "\n",
        "# Exemple d'utilisation\n",
        "ordre_dfs = dfs(graphe, 'A')\n",
        "print(\"Ordre de parcours DFS :\", ordre_dfs)"
      ],
      "metadata": {
        "colab": {
          "base_uri": "https://localhost:8080/"
        },
        "id": "rbW5oTjUS3A9",
        "outputId": "ffa7703c-0d0b-43c2-c0ad-2530f10924ce"
      },
      "execution_count": 4,
      "outputs": [
        {
          "output_type": "stream",
          "name": "stdout",
          "text": [
            "Ordre de parcours DFS : ['A', 'B', 'E', 'F', 'C', 'D', 'G']\n"
          ]
        }
      ]
    },
    {
      "cell_type": "code",
      "source": [],
      "metadata": {
        "id": "p_4zjnHHTacU"
      },
      "execution_count": null,
      "outputs": []
    }
  ]
}